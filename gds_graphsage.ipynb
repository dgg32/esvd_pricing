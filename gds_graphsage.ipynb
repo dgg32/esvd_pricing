{
 "cells": [
  {
   "cell_type": "code",
   "execution_count": 104,
   "metadata": {},
   "outputs": [],
   "source": [
    "import yaml\n",
    "import pandas as pd\n",
    "from graphdatascience import GraphDataScience"
   ]
  },
  {
   "cell_type": "code",
   "execution_count": 105,
   "metadata": {},
   "outputs": [],
   "source": [
    "with open('config.yaml', 'r') as file:\n",
    "    PARAM = yaml.safe_load(file)\n",
    "\n",
    "\n",
    "url = \"bolt://localhost:7687\"\n",
    "gds = GraphDataScience(url, auth=(PARAM[\"neo4j_username\"], PARAM[\"neo4j_password\"]))"
   ]
  },
  {
   "cell_type": "code",
   "execution_count": 106,
   "metadata": {},
   "outputs": [],
   "source": [
    "G, result = gds.graph.project(\n",
    "    \"contextGraph\",                  #  Graph name\n",
    "    {\n",
    "    \"Known\": { \"properties\":['protection_status_one_hot', 'site_area_in_hectares', 'site_length_km', 'valuation_methods_one_hot', 'value_year', 'beneficiary_unit_one_hot', 'int__per_hectare_per_year'] },\n",
    "    \"Unknown\": {\"properties\":['protection_status_one_hot', 'site_area_in_hectares', 'site_length_km', 'valuation_methods_one_hot', 'value_year', 'beneficiary_unit_one_hot']},\n",
    "    \"Country\": {},\n",
    "    \"Seea\": {},\n",
    "    \"Ecosystem\": {},\n",
    "    \"Ecozone\": {},\n",
    "    \"Biome\": {},\n",
    "    \"Cices_class\": {},\n",
    "    \"Cices_division\": {},\n",
    "    \"Cices_group\": {},\n",
    "    \"Cices_section\": {},\n",
    "    \"Teeb_service\": {},\n",
    "    \"Teeb_subservice\": {},\n",
    "    \"Teeb_category\": {},\n",
    "    \"Subregion\": {},\n",
    "    \"Region\": {}\n",
    "  },                 #  Node projection\n",
    "  {\n",
    "    \"IS_LOCATE_IN\": {\"orientation\": 'UNDIRECTED'},\n",
    "    \"IS_AN_SEEA_OF\": {\"orientation\": 'UNDIRECTED'},\n",
    "    \"IS_AN_ECOSYSTEM_OF\": {\"orientation\": 'UNDIRECTED'},\n",
    "    \"ECOSYSTEM_BELONGS_TO\": {\"orientation\": 'UNDIRECTED'},\n",
    "    \"IS_AN_ECOZONE_OF\": {\"orientation\": 'UNDIRECTED'},\n",
    "    \"ECOZONE_BELONGS_TO\": {\"orientation\": 'UNDIRECTED'},\n",
    "    \"IS_A_BIOME_OF\": {\"orientation\": 'UNDIRECTED'},\n",
    "    \"BELONGS_TO_CLASS_OF_CICES\": {\"orientation\": 'UNDIRECTED'},\n",
    "    \"IS_A_GROUP_OF_CICES\": {\"orientation\": 'UNDIRECTED'},\n",
    "    \"IS_A_DIVISION_OF_CICES\": {\"orientation\": 'UNDIRECTED'},\n",
    "    \"IS_A_CLASS_OF_CICES\": {\"orientation\": 'UNDIRECTED'},\n",
    "    \"PROVIDES_SERVICE\": {\"orientation\": 'UNDIRECTED'},\n",
    "    \"PROVIDES_SUBSERVICE\": {\"orientation\": 'UNDIRECTED'},\n",
    "    \"COUNTRY_IS_LOCATE_IN\": {\"orientation\": 'UNDIRECTED'},\n",
    "    \"SUBREGION_IS_LOCATE_IN\": {\"orientation\": 'UNDIRECTED'},\n",
    "    \"IS_A_SUBSERVICE_OF\": {\"orientation\": 'UNDIRECTED'},\n",
    "    \"IS_A_SERVICE_OF\":  {\"orientation\": 'UNDIRECTED'}     \n",
    "    },              #  Relationship projection\n",
    "    readConcurrency=4           #  Configuration parameters\n",
    ")"
   ]
  },
  {
   "cell_type": "code",
   "execution_count": 107,
   "metadata": {},
   "outputs": [
    {
     "data": {
      "application/vnd.jupyter.widget-view+json": {
       "model_id": "b69845fe6809426ab10b46a28b0c8a5d",
       "version_major": 2,
       "version_minor": 0
      },
      "text/plain": [
       "GraphSageTrain:   0%|          | 0/100 [00:00<?, ?%/s]"
      ]
     },
     "metadata": {},
     "output_type": "display_data"
    }
   ],
   "source": [
    "model, res = gds.beta.graphSage.train(G,\n",
    "modelName=\"multiLabelModel\",\n",
    "featureProperties=['protection_status_one_hot', 'site_area_in_hectares', 'site_length_km', 'valuation_methods_one_hot', 'value_year', 'beneficiary_unit_one_hot'],\n",
    "projectedFeatureDimension=8,\n",
    "embeddingDimension=32,\n",
    "epochs=5,\n",
    "maxIterations=20\n",
    ")"
   ]
  },
  {
   "cell_type": "code",
   "execution_count": 108,
   "metadata": {},
   "outputs": [
    {
     "data": {
      "text/plain": [
       "nodePropertiesWritten                                                10284\n",
       "mutateMillis                                                             0\n",
       "nodeCount                                                            10284\n",
       "preProcessingMillis                                                      0\n",
       "computeMillis                                                          224\n",
       "configuration            {'mutateProperty': 'graph_sage_embedding', 'mo...\n",
       "Name: 0, dtype: object"
      ]
     },
     "execution_count": 108,
     "metadata": {},
     "output_type": "execute_result"
    }
   ],
   "source": [
    "gds.beta.graphSage.mutate(\n",
    "    G,\n",
    "    mutateProperty='graph_sage_embedding',\n",
    "    modelName='multiLabelModel'\n",
    ")"
   ]
  },
  {
   "cell_type": "code",
   "execution_count": 109,
   "metadata": {},
   "outputs": [
    {
     "data": {
      "text/html": [
       "<div>\n",
       "<style scoped>\n",
       "    .dataframe tbody tr th:only-of-type {\n",
       "        vertical-align: middle;\n",
       "    }\n",
       "\n",
       "    .dataframe tbody tr th {\n",
       "        vertical-align: top;\n",
       "    }\n",
       "\n",
       "    .dataframe thead th {\n",
       "        text-align: right;\n",
       "    }\n",
       "</style>\n",
       "<table border=\"1\" class=\"dataframe\">\n",
       "  <thead>\n",
       "    <tr style=\"text-align: right;\">\n",
       "      <th></th>\n",
       "      <th>nodeId</th>\n",
       "      <th>nodeProperty</th>\n",
       "      <th>propertyValue</th>\n",
       "      <th>nodeLabels</th>\n",
       "    </tr>\n",
       "  </thead>\n",
       "  <tbody>\n",
       "    <tr>\n",
       "      <th>0</th>\n",
       "      <td>0</td>\n",
       "      <td>graph_sage_embedding</td>\n",
       "      <td>[0.12962182754561222, 0.4584301229353667, 5.68...</td>\n",
       "      <td>[]</td>\n",
       "    </tr>\n",
       "    <tr>\n",
       "      <th>1</th>\n",
       "      <td>1</td>\n",
       "      <td>graph_sage_embedding</td>\n",
       "      <td>[0.00874604450310037, 0.1917266839496676, 1.54...</td>\n",
       "      <td>[]</td>\n",
       "    </tr>\n",
       "    <tr>\n",
       "      <th>2</th>\n",
       "      <td>2</td>\n",
       "      <td>graph_sage_embedding</td>\n",
       "      <td>[0.011528794235358358, 0.10632605382155381, 0....</td>\n",
       "      <td>[]</td>\n",
       "    </tr>\n",
       "    <tr>\n",
       "      <th>3</th>\n",
       "      <td>3</td>\n",
       "      <td>graph_sage_embedding</td>\n",
       "      <td>[0.005313134142373653, 0.18024365713093346, 2....</td>\n",
       "      <td>[]</td>\n",
       "    </tr>\n",
       "    <tr>\n",
       "      <th>4</th>\n",
       "      <td>4</td>\n",
       "      <td>graph_sage_embedding</td>\n",
       "      <td>[0.011528794235358358, 0.10632605382155381, 0....</td>\n",
       "      <td>[]</td>\n",
       "    </tr>\n",
       "    <tr>\n",
       "      <th>...</th>\n",
       "      <td>...</td>\n",
       "      <td>...</td>\n",
       "      <td>...</td>\n",
       "      <td>...</td>\n",
       "    </tr>\n",
       "    <tr>\n",
       "      <th>9495</th>\n",
       "      <td>10342</td>\n",
       "      <td>graph_sage_embedding</td>\n",
       "      <td>[0.004774445765994023, 0.3312014974529382, 2.6...</td>\n",
       "      <td>[]</td>\n",
       "    </tr>\n",
       "    <tr>\n",
       "      <th>9496</th>\n",
       "      <td>10343</td>\n",
       "      <td>graph_sage_embedding</td>\n",
       "      <td>[0.01903641498178452, 0.5562542213035176, 9.92...</td>\n",
       "      <td>[]</td>\n",
       "    </tr>\n",
       "    <tr>\n",
       "      <th>9497</th>\n",
       "      <td>10344</td>\n",
       "      <td>graph_sage_embedding</td>\n",
       "      <td>[0.0135571982876406, 0.5693939152247499, 6.913...</td>\n",
       "      <td>[]</td>\n",
       "    </tr>\n",
       "    <tr>\n",
       "      <th>9498</th>\n",
       "      <td>10345</td>\n",
       "      <td>graph_sage_embedding</td>\n",
       "      <td>[0.011890505049983183, 0.2567768228325833, 2.2...</td>\n",
       "      <td>[]</td>\n",
       "    </tr>\n",
       "    <tr>\n",
       "      <th>9499</th>\n",
       "      <td>10346</td>\n",
       "      <td>graph_sage_embedding</td>\n",
       "      <td>[0.027022514011956378, 0.638750118626286, 3.27...</td>\n",
       "      <td>[]</td>\n",
       "    </tr>\n",
       "  </tbody>\n",
       "</table>\n",
       "<p>9500 rows × 4 columns</p>\n",
       "</div>"
      ],
      "text/plain": [
       "      nodeId          nodeProperty  \\\n",
       "0          0  graph_sage_embedding   \n",
       "1          1  graph_sage_embedding   \n",
       "2          2  graph_sage_embedding   \n",
       "3          3  graph_sage_embedding   \n",
       "4          4  graph_sage_embedding   \n",
       "...      ...                   ...   \n",
       "9495   10342  graph_sage_embedding   \n",
       "9496   10343  graph_sage_embedding   \n",
       "9497   10344  graph_sage_embedding   \n",
       "9498   10345  graph_sage_embedding   \n",
       "9499   10346  graph_sage_embedding   \n",
       "\n",
       "                                          propertyValue nodeLabels  \n",
       "0     [0.12962182754561222, 0.4584301229353667, 5.68...         []  \n",
       "1     [0.00874604450310037, 0.1917266839496676, 1.54...         []  \n",
       "2     [0.011528794235358358, 0.10632605382155381, 0....         []  \n",
       "3     [0.005313134142373653, 0.18024365713093346, 2....         []  \n",
       "4     [0.011528794235358358, 0.10632605382155381, 0....         []  \n",
       "...                                                 ...        ...  \n",
       "9495  [0.004774445765994023, 0.3312014974529382, 2.6...         []  \n",
       "9496  [0.01903641498178452, 0.5562542213035176, 9.92...         []  \n",
       "9497  [0.0135571982876406, 0.5693939152247499, 6.913...         []  \n",
       "9498  [0.011890505049983183, 0.2567768228325833, 2.2...         []  \n",
       "9499  [0.027022514011956378, 0.638750118626286, 3.27...         []  \n",
       "\n",
       "[9500 rows x 4 columns]"
      ]
     },
     "execution_count": 109,
     "metadata": {},
     "output_type": "execute_result"
    }
   ],
   "source": [
    "gds.graph.nodeProperties.stream(\n",
    "    G,\n",
    "    ['graph_sage_embedding'],\n",
    "    [\"Known\", \"Unknown\"]\n",
    ")"
   ]
  },
  {
   "cell_type": "code",
   "execution_count": 110,
   "metadata": {},
   "outputs": [],
   "source": [
    "pipe_with_context = gds.nr_pipe(\"pipe-with-context\")"
   ]
  },
  {
   "cell_type": "code",
   "execution_count": 111,
   "metadata": {},
   "outputs": [
    {
     "data": {
      "text/plain": [
       "name                                            pipe-with-context\n",
       "nodePropertySteps                                              []\n",
       "featureProperties                          [graph_sage_embedding]\n",
       "splitConfig           {'testFraction': 0.3, 'validationFolds': 3}\n",
       "autoTuningConfig                                {'maxTrials': 10}\n",
       "parameterSpace       {'LinearRegression': [], 'RandomForest': []}\n",
       "Name: 0, dtype: object"
      ]
     },
     "execution_count": 111,
     "metadata": {},
     "output_type": "execute_result"
    }
   ],
   "source": [
    "pipe_with_context.selectFeatures([\"graph_sage_embedding\"])"
   ]
  },
  {
   "cell_type": "code",
   "execution_count": 112,
   "metadata": {},
   "outputs": [
    {
     "data": {
      "text/plain": [
       "name                                                 pipe-with-context\n",
       "nodePropertySteps                                                   []\n",
       "featureProperties                               [graph_sage_embedding]\n",
       "splitConfig                {'testFraction': 0.3, 'validationFolds': 3}\n",
       "autoTuningConfig                                     {'maxTrials': 10}\n",
       "parameterSpace       {'LinearRegression': [], 'RandomForest': [{'ma...\n",
       "Name: 0, dtype: object"
      ]
     },
     "execution_count": 112,
     "metadata": {},
     "output_type": "execute_result"
    }
   ],
   "source": [
    "pipe_with_context.addRandomForest(numberOfDecisionTrees=10)"
   ]
  },
  {
   "cell_type": "code",
   "execution_count": 113,
   "metadata": {},
   "outputs": [
    {
     "data": {
      "text/plain": [
       "name                                                 pipe-with-context\n",
       "nodePropertySteps                                                   []\n",
       "featureProperties                               [graph_sage_embedding]\n",
       "splitConfig                {'testFraction': 0.3, 'validationFolds': 3}\n",
       "autoTuningConfig                                      {'maxTrials': 5}\n",
       "parameterSpace       {'LinearRegression': [], 'RandomForest': [{'ma...\n",
       "Name: 0, dtype: object"
      ]
     },
     "execution_count": 113,
     "metadata": {},
     "output_type": "execute_result"
    }
   ],
   "source": [
    "pipe_with_context.configureAutoTuning(maxTrials=5)"
   ]
  },
  {
   "cell_type": "code",
   "execution_count": 114,
   "metadata": {},
   "outputs": [
    {
     "data": {
      "application/vnd.jupyter.widget-view+json": {
       "model_id": "7a59191982cd4e6eb5f98977f81c98a1",
       "version_major": 2,
       "version_minor": 0
      },
      "text/plain": [
       "Node Regression Train Pipeline:   0%|          | 0/100 [00:00<?, ?%/s]"
      ]
     },
     "metadata": {},
     "output_type": "display_data"
    }
   ],
   "source": [
    "model, stats = pipe_with_context.train(\n",
    "    G,\n",
    "    targetNodeLabels=[\"Known\"],\n",
    "    modelName=\"nr-pipeline-model-contextual\",\n",
    "    targetProperty=\"int__per_hectare_per_year\",\n",
    "    metrics=[\"ROOT_MEAN_SQUARED_ERROR\"],\n",
    "    concurrency=4\n",
    ")"
   ]
  },
  {
   "cell_type": "markdown",
   "metadata": {},
   "source": [
    "Without the context Node labels: {'test': 40443.38886354173, 'validation': {'min': 43493.441360938836, 'max': 51896.71613829475, 'avg': 48193.77188901938}, 'outerTrain': 39749.880691939696, 'train': {'min': 38593.61942880581, 'max': 44602.9439280394, 'avg': 41371.3436473497}}\n"
   ]
  },
  {
   "cell_type": "code",
   "execution_count": 115,
   "metadata": {},
   "outputs": [
    {
     "name": "stdout",
     "output_type": "stream",
     "text": [
      "{'test': 43688.224366944305, 'validation': {'min': 48354.99737931862, 'max': 51913.82123589156, 'avg': 49929.191374667105}, 'outerTrain': 42873.92092326766, 'train': {'min': 40491.977359513825, 'max': 45575.02190090115, 'avg': 42705.07810630917}}\n"
     ]
    }
   ],
   "source": [
    "print (stats[\"modelInfo\"][\"metrics\"][\"ROOT_MEAN_SQUARED_ERROR\"])"
   ]
  },
  {
   "cell_type": "code",
   "execution_count": 116,
   "metadata": {},
   "outputs": [],
   "source": [
    "predicted = model.predict_stream(\n",
    "    G, modelName=\"nr-pipeline-model-contextual\", targetNodeLabels=[\"Unknown\"]\n",
    ")\n",
    "     \n"
   ]
  },
  {
   "cell_type": "code",
   "execution_count": 117,
   "metadata": {},
   "outputs": [],
   "source": [
    "predicted[\"name\"] = [x[\"name\"] for x in gds.util.asNodes(predicted[\"nodeId\"].to_list())]"
   ]
  },
  {
   "cell_type": "code",
   "execution_count": 118,
   "metadata": {},
   "outputs": [
    {
     "data": {
      "text/html": [
       "<div>\n",
       "<style scoped>\n",
       "    .dataframe tbody tr th:only-of-type {\n",
       "        vertical-align: middle;\n",
       "    }\n",
       "\n",
       "    .dataframe tbody tr th {\n",
       "        vertical-align: top;\n",
       "    }\n",
       "\n",
       "    .dataframe thead th {\n",
       "        text-align: right;\n",
       "    }\n",
       "</style>\n",
       "<table border=\"1\" class=\"dataframe\">\n",
       "  <thead>\n",
       "    <tr style=\"text-align: right;\">\n",
       "      <th></th>\n",
       "      <th>nodeId</th>\n",
       "      <th>GraphSAGE_rf</th>\n",
       "      <th>name</th>\n",
       "    </tr>\n",
       "  </thead>\n",
       "  <tbody>\n",
       "    <tr>\n",
       "      <th>0</th>\n",
       "      <td>23</td>\n",
       "      <td>129734.28849</td>\n",
       "      <td>12270007</td>\n",
       "    </tr>\n",
       "    <tr>\n",
       "      <th>1</th>\n",
       "      <td>31</td>\n",
       "      <td>26955.16982</td>\n",
       "      <td>12250001</td>\n",
       "    </tr>\n",
       "    <tr>\n",
       "      <th>2</th>\n",
       "      <td>35</td>\n",
       "      <td>28565.12394</td>\n",
       "      <td>12240002</td>\n",
       "    </tr>\n",
       "    <tr>\n",
       "      <th>3</th>\n",
       "      <td>41</td>\n",
       "      <td>129734.28849</td>\n",
       "      <td>12230006</td>\n",
       "    </tr>\n",
       "    <tr>\n",
       "      <th>4</th>\n",
       "      <td>46</td>\n",
       "      <td>25697.00822</td>\n",
       "      <td>12210004</td>\n",
       "    </tr>\n",
       "    <tr>\n",
       "      <th>...</th>\n",
       "      <td>...</td>\n",
       "      <td>...</td>\n",
       "      <td>...</td>\n",
       "    </tr>\n",
       "    <tr>\n",
       "      <th>3471</th>\n",
       "      <td>10291</td>\n",
       "      <td>3810.09997</td>\n",
       "      <td>12410007</td>\n",
       "    </tr>\n",
       "    <tr>\n",
       "      <th>3472</th>\n",
       "      <td>10293</td>\n",
       "      <td>88182.90784</td>\n",
       "      <td>12400002</td>\n",
       "    </tr>\n",
       "    <tr>\n",
       "      <th>3473</th>\n",
       "      <td>10308</td>\n",
       "      <td>13696.17102</td>\n",
       "      <td>12360001</td>\n",
       "    </tr>\n",
       "    <tr>\n",
       "      <th>3474</th>\n",
       "      <td>10315</td>\n",
       "      <td>987.89758</td>\n",
       "      <td>12350007</td>\n",
       "    </tr>\n",
       "    <tr>\n",
       "      <th>3475</th>\n",
       "      <td>10316</td>\n",
       "      <td>20586.94551</td>\n",
       "      <td>12350003</td>\n",
       "    </tr>\n",
       "  </tbody>\n",
       "</table>\n",
       "<p>3476 rows × 3 columns</p>\n",
       "</div>"
      ],
      "text/plain": [
       "      nodeId  GraphSAGE_rf      name\n",
       "0         23  129734.28849  12270007\n",
       "1         31   26955.16982  12250001\n",
       "2         35   28565.12394  12240002\n",
       "3         41  129734.28849  12230006\n",
       "4         46   25697.00822  12210004\n",
       "...      ...           ...       ...\n",
       "3471   10291    3810.09997  12410007\n",
       "3472   10293   88182.90784  12400002\n",
       "3473   10308   13696.17102  12360001\n",
       "3474   10315     987.89758  12350007\n",
       "3475   10316   20586.94551  12350003\n",
       "\n",
       "[3476 rows x 3 columns]"
      ]
     },
     "execution_count": 118,
     "metadata": {},
     "output_type": "execute_result"
    }
   ],
   "source": [
    "predicted.rename(columns={\"predictedValue\": \"GraphSAGE_rf\"})"
   ]
  },
  {
   "cell_type": "code",
   "execution_count": 119,
   "metadata": {},
   "outputs": [],
   "source": [
    "predicted.to_csv(\"predicted_GraphSAGE.tsv\", sep=\"\\t\", index=False)"
   ]
  },
  {
   "cell_type": "code",
   "execution_count": null,
   "metadata": {},
   "outputs": [],
   "source": []
  }
 ],
 "metadata": {
  "kernelspec": {
   "display_name": "bigquery_pricing",
   "language": "python",
   "name": "python3"
  },
  "language_info": {
   "codemirror_mode": {
    "name": "ipython",
    "version": 3
   },
   "file_extension": ".py",
   "mimetype": "text/x-python",
   "name": "python",
   "nbconvert_exporter": "python",
   "pygments_lexer": "ipython3",
   "version": "3.11.5"
  }
 },
 "nbformat": 4,
 "nbformat_minor": 2
}
