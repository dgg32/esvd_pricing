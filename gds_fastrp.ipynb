{
 "cells": [
  {
   "cell_type": "code",
   "execution_count": 102,
   "metadata": {},
   "outputs": [],
   "source": [
    "import yaml\n",
    "import pandas as pd\n",
    "from graphdatascience import GraphDataScience"
   ]
  },
  {
   "cell_type": "code",
   "execution_count": 103,
   "metadata": {},
   "outputs": [],
   "source": [
    "with open('config.yaml', 'r') as file:\n",
    "    PARAM = yaml.safe_load(file)\n",
    "\n",
    "\n",
    "url = \"bolt://localhost:7687\"\n",
    "gds = GraphDataScience(url, auth=(PARAM[\"neo4j_username\"], PARAM[\"neo4j_password\"]))"
   ]
  },
  {
   "cell_type": "code",
   "execution_count": 104,
   "metadata": {},
   "outputs": [],
   "source": [
    "G, result = gds.graph.project(\n",
    "    \"contextGraph\",                  #  Graph name\n",
    "    {\n",
    "    \"Known\": { \"properties\":['protection_status_one_hot', 'site_area_in_hectares', 'site_length_km', 'valuation_methods_one_hot', 'value_year', 'beneficiary_unit_one_hot', 'int__per_hectare_per_year'] },\n",
    "    \"Unknown\": {\"properties\":['protection_status_one_hot', 'site_area_in_hectares', 'site_length_km', 'valuation_methods_one_hot', 'value_year', 'beneficiary_unit_one_hot']},\n",
    "    \"Country\": {},\n",
    "    \"Seea\": {},\n",
    "    \"Ecosystem\": {},\n",
    "    \"Ecozone\": {},\n",
    "    \"Biome\": {},\n",
    "    \"Cices_class\": {},\n",
    "    \"Cices_division\": {},\n",
    "    \"Cices_group\": {},\n",
    "    \"Cices_section\": {},\n",
    "    \"Teeb_service\": {},\n",
    "    \"Teeb_subservice\": {},\n",
    "    \"Teeb_category\": {},\n",
    "    \"Subregion\": {},\n",
    "    \"Region\": {}\n",
    "  },                 #  Node projection\n",
    "  {\n",
    "    \"IS_LOCATE_IN\": {\"orientation\": 'UNDIRECTED'},\n",
    "    \"IS_AN_SEEA_OF\": {\"orientation\": 'UNDIRECTED'},\n",
    "    \"IS_AN_ECOSYSTEM_OF\": {\"orientation\": 'UNDIRECTED'},\n",
    "    \"ECOSYSTEM_BELONGS_TO\": {\"orientation\": 'UNDIRECTED'},\n",
    "    \"IS_AN_ECOZONE_OF\": {\"orientation\": 'UNDIRECTED'},\n",
    "    \"ECOZONE_BELONGS_TO\": {\"orientation\": 'UNDIRECTED'},\n",
    "    \"IS_A_BIOME_OF\": {\"orientation\": 'UNDIRECTED'},\n",
    "    \"BELONGS_TO_CLASS_OF_CICES\": {\"orientation\": 'UNDIRECTED'},\n",
    "    \"IS_A_GROUP_OF_CICES\": {\"orientation\": 'UNDIRECTED'},\n",
    "    \"IS_A_DIVISION_OF_CICES\": {\"orientation\": 'UNDIRECTED'},\n",
    "    \"IS_A_CLASS_OF_CICES\": {\"orientation\": 'UNDIRECTED'},\n",
    "    \"PROVIDES_SERVICE\": {\"orientation\": 'UNDIRECTED'},\n",
    "    \"PROVIDES_SUBSERVICE\": {\"orientation\": 'UNDIRECTED'},\n",
    "    \"COUNTRY_IS_LOCATE_IN\": {\"orientation\": 'UNDIRECTED'},\n",
    "    \"SUBREGION_IS_LOCATE_IN\": {\"orientation\": 'UNDIRECTED'},\n",
    "    \"IS_A_SUBSERVICE_OF\": {\"orientation\": 'UNDIRECTED'},\n",
    "    \"IS_A_SERVICE_OF\":  {\"orientation\": 'UNDIRECTED'}     \n",
    "    },              #  Relationship projection\n",
    "    readConcurrency=4           #  Configuration parameters\n",
    ")"
   ]
  },
  {
   "cell_type": "code",
   "execution_count": 105,
   "metadata": {},
   "outputs": [],
   "source": [
    "pipe_with_context = gds.nr_pipe(\"pipe-with-context\")"
   ]
  },
  {
   "cell_type": "code",
   "execution_count": 106,
   "metadata": {},
   "outputs": [],
   "source": [
    "## You can mutate the graph with fastRP\n",
    "\n",
    "# gds.fastRP.mutate(G, \n",
    "# embeddingDimension= 16,\n",
    "# mutateProperty='embedding'\n",
    "# )\n",
    "\n",
    "# gds.graph.nodeProperties.stream(\n",
    "#     G,\n",
    "#     ['embedding'],\n",
    "#     [\"Known\", \"Unknown\"]\n",
    "# )"
   ]
  },
  {
   "cell_type": "code",
   "execution_count": 107,
   "metadata": {},
   "outputs": [
    {
     "data": {
      "text/plain": [
       "name                                                 pipe-with-context\n",
       "nodePropertySteps    [{'name': 'gds.fastRP.mutate', 'config': {'mut...\n",
       "featureProperties                                                   []\n",
       "splitConfig                {'testFraction': 0.3, 'validationFolds': 3}\n",
       "autoTuningConfig                                     {'maxTrials': 10}\n",
       "parameterSpace            {'LinearRegression': [], 'RandomForest': []}\n",
       "Name: 0, dtype: object"
      ]
     },
     "execution_count": 107,
     "metadata": {},
     "output_type": "execute_result"
    }
   ],
   "source": [
    "pipe_with_context.addNodeProperty(\n",
    "    \"fastRP\",\n",
    "    mutateProperty=\"embedding\",\n",
    "    embeddingDimension=32,\n",
    "    contextNodeLabels=['Country', 'Seea', 'Ecosystem', 'Ecozone', 'Ecosystem', 'Biome','Cices_class', 'Teeb_service', 'Teeb_subservice', 'Subregion', 'Region'],\n",
    ")"
   ]
  },
  {
   "cell_type": "code",
   "execution_count": null,
   "metadata": {},
   "outputs": [],
   "source": []
  },
  {
   "cell_type": "code",
   "execution_count": 108,
   "metadata": {},
   "outputs": [
    {
     "data": {
      "text/plain": [
       "name                                                 pipe-with-context\n",
       "nodePropertySteps    [{'name': 'gds.fastRP.mutate', 'config': {'mut...\n",
       "featureProperties                                          [embedding]\n",
       "splitConfig                {'testFraction': 0.3, 'validationFolds': 3}\n",
       "autoTuningConfig                                     {'maxTrials': 10}\n",
       "parameterSpace            {'LinearRegression': [], 'RandomForest': []}\n",
       "Name: 0, dtype: object"
      ]
     },
     "execution_count": 108,
     "metadata": {},
     "output_type": "execute_result"
    }
   ],
   "source": [
    "pipe_with_context.selectFeatures([\"embedding\"])"
   ]
  },
  {
   "cell_type": "code",
   "execution_count": 109,
   "metadata": {},
   "outputs": [
    {
     "data": {
      "text/plain": [
       "name                                                 pipe-with-context\n",
       "nodePropertySteps    [{'name': 'gds.fastRP.mutate', 'config': {'mut...\n",
       "featureProperties                                          [embedding]\n",
       "splitConfig                {'testFraction': 0.3, 'validationFolds': 3}\n",
       "autoTuningConfig                                     {'maxTrials': 10}\n",
       "parameterSpace       {'LinearRegression': [], 'RandomForest': [{'ma...\n",
       "Name: 0, dtype: object"
      ]
     },
     "execution_count": 109,
     "metadata": {},
     "output_type": "execute_result"
    }
   ],
   "source": [
    "pipe_with_context.addRandomForest(numberOfDecisionTrees=10)"
   ]
  },
  {
   "cell_type": "code",
   "execution_count": 110,
   "metadata": {},
   "outputs": [
    {
     "data": {
      "text/plain": [
       "name                                                 pipe-with-context\n",
       "nodePropertySteps    [{'name': 'gds.fastRP.mutate', 'config': {'mut...\n",
       "featureProperties                                          [embedding]\n",
       "splitConfig                {'testFraction': 0.3, 'validationFolds': 3}\n",
       "autoTuningConfig                                      {'maxTrials': 5}\n",
       "parameterSpace       {'LinearRegression': [], 'RandomForest': [{'ma...\n",
       "Name: 0, dtype: object"
      ]
     },
     "execution_count": 110,
     "metadata": {},
     "output_type": "execute_result"
    }
   ],
   "source": [
    "pipe_with_context.configureAutoTuning(maxTrials=5)"
   ]
  },
  {
   "cell_type": "code",
   "execution_count": 111,
   "metadata": {},
   "outputs": [
    {
     "data": {
      "application/vnd.jupyter.widget-view+json": {
       "model_id": "4a53e5fb285c4ee48716e63892957a17",
       "version_major": 2,
       "version_minor": 0
      },
      "text/plain": [
       "Node Regression Train Pipeline:   0%|          | 0/100 [00:00<?, ?%/s]"
      ]
     },
     "metadata": {},
     "output_type": "display_data"
    }
   ],
   "source": [
    "model, stats = pipe_with_context.train(\n",
    "    G,\n",
    "    targetNodeLabels=[\"Known\"],\n",
    "    modelName=\"nr-pipeline-model-contextual\",\n",
    "    targetProperty=\"int__per_hectare_per_year\",\n",
    "    metrics=[\"ROOT_MEAN_SQUARED_ERROR\"],\n",
    "    concurrency=4\n",
    ")"
   ]
  },
  {
   "cell_type": "code",
   "execution_count": 112,
   "metadata": {},
   "outputs": [
    {
     "name": "stdout",
     "output_type": "stream",
     "text": [
      "{'test': 37724.08777768367, 'validation': {'min': 33075.82858659399, 'max': 46408.0626480512, 'avg': 41661.88175823811}, 'outerTrain': 35632.74546814644, 'train': {'min': 30264.379322638295, 'max': 40411.77798696447, 'avg': 35486.29736719002}}\n"
     ]
    }
   ],
   "source": [
    "print (stats[\"modelInfo\"][\"metrics\"][\"ROOT_MEAN_SQUARED_ERROR\"])"
   ]
  },
  {
   "cell_type": "code",
   "execution_count": 113,
   "metadata": {},
   "outputs": [],
   "source": [
    "predicted = model.predict_stream(\n",
    "    G, modelName=\"nr-pipeline-model-contextual\", targetNodeLabels=[\"Unknown\"]\n",
    ")\n",
    "     \n"
   ]
  },
  {
   "cell_type": "code",
   "execution_count": 114,
   "metadata": {},
   "outputs": [],
   "source": [
    "predicted[\"name\"] = [x[\"name\"] for x in gds.util.asNodes(predicted[\"nodeId\"].to_list())]"
   ]
  },
  {
   "cell_type": "code",
   "execution_count": 115,
   "metadata": {},
   "outputs": [
    {
     "data": {
      "text/html": [
       "<div>\n",
       "<style scoped>\n",
       "    .dataframe tbody tr th:only-of-type {\n",
       "        vertical-align: middle;\n",
       "    }\n",
       "\n",
       "    .dataframe tbody tr th {\n",
       "        vertical-align: top;\n",
       "    }\n",
       "\n",
       "    .dataframe thead th {\n",
       "        text-align: right;\n",
       "    }\n",
       "</style>\n",
       "<table border=\"1\" class=\"dataframe\">\n",
       "  <thead>\n",
       "    <tr style=\"text-align: right;\">\n",
       "      <th></th>\n",
       "      <th>nodeId</th>\n",
       "      <th>FastRP_rf</th>\n",
       "      <th>name</th>\n",
       "    </tr>\n",
       "  </thead>\n",
       "  <tbody>\n",
       "    <tr>\n",
       "      <th>0</th>\n",
       "      <td>23</td>\n",
       "      <td>76859.79227</td>\n",
       "      <td>12270007</td>\n",
       "    </tr>\n",
       "    <tr>\n",
       "      <th>1</th>\n",
       "      <td>31</td>\n",
       "      <td>9307.74632</td>\n",
       "      <td>12250001</td>\n",
       "    </tr>\n",
       "    <tr>\n",
       "      <th>2</th>\n",
       "      <td>35</td>\n",
       "      <td>75520.16106</td>\n",
       "      <td>12240002</td>\n",
       "    </tr>\n",
       "    <tr>\n",
       "      <th>3</th>\n",
       "      <td>41</td>\n",
       "      <td>76859.79227</td>\n",
       "      <td>12230006</td>\n",
       "    </tr>\n",
       "    <tr>\n",
       "      <th>4</th>\n",
       "      <td>46</td>\n",
       "      <td>46968.94177</td>\n",
       "      <td>12210004</td>\n",
       "    </tr>\n",
       "    <tr>\n",
       "      <th>...</th>\n",
       "      <td>...</td>\n",
       "      <td>...</td>\n",
       "      <td>...</td>\n",
       "    </tr>\n",
       "    <tr>\n",
       "      <th>3471</th>\n",
       "      <td>10291</td>\n",
       "      <td>17839.40498</td>\n",
       "      <td>12410007</td>\n",
       "    </tr>\n",
       "    <tr>\n",
       "      <th>3472</th>\n",
       "      <td>10293</td>\n",
       "      <td>99936.38500</td>\n",
       "      <td>12400002</td>\n",
       "    </tr>\n",
       "    <tr>\n",
       "      <th>3473</th>\n",
       "      <td>10308</td>\n",
       "      <td>2935.39080</td>\n",
       "      <td>12360001</td>\n",
       "    </tr>\n",
       "    <tr>\n",
       "      <th>3474</th>\n",
       "      <td>10315</td>\n",
       "      <td>1104.49807</td>\n",
       "      <td>12350007</td>\n",
       "    </tr>\n",
       "    <tr>\n",
       "      <th>3475</th>\n",
       "      <td>10316</td>\n",
       "      <td>7585.41069</td>\n",
       "      <td>12350003</td>\n",
       "    </tr>\n",
       "  </tbody>\n",
       "</table>\n",
       "<p>3476 rows × 3 columns</p>\n",
       "</div>"
      ],
      "text/plain": [
       "      nodeId    FastRP_rf      name\n",
       "0         23  76859.79227  12270007\n",
       "1         31   9307.74632  12250001\n",
       "2         35  75520.16106  12240002\n",
       "3         41  76859.79227  12230006\n",
       "4         46  46968.94177  12210004\n",
       "...      ...          ...       ...\n",
       "3471   10291  17839.40498  12410007\n",
       "3472   10293  99936.38500  12400002\n",
       "3473   10308   2935.39080  12360001\n",
       "3474   10315   1104.49807  12350007\n",
       "3475   10316   7585.41069  12350003\n",
       "\n",
       "[3476 rows x 3 columns]"
      ]
     },
     "execution_count": 115,
     "metadata": {},
     "output_type": "execute_result"
    }
   ],
   "source": [
    "predicted.rename(columns={\"predictedValue\": \"FastRP_rf\"})"
   ]
  },
  {
   "cell_type": "code",
   "execution_count": 116,
   "metadata": {},
   "outputs": [],
   "source": [
    "predicted.to_csv(\"predicted_FastRP.tsv\", sep=\"\\t\", index=False)"
   ]
  },
  {
   "cell_type": "code",
   "execution_count": null,
   "metadata": {},
   "outputs": [],
   "source": []
  }
 ],
 "metadata": {
  "kernelspec": {
   "display_name": "bigquery_pricing",
   "language": "python",
   "name": "python3"
  },
  "language_info": {
   "codemirror_mode": {
    "name": "ipython",
    "version": 3
   },
   "file_extension": ".py",
   "mimetype": "text/x-python",
   "name": "python",
   "nbconvert_exporter": "python",
   "pygments_lexer": "ipython3",
   "version": "3.11.5"
  }
 },
 "nbformat": 4,
 "nbformat_minor": 2
}
