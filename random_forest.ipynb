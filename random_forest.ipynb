{
 "cells": [
  {
   "cell_type": "code",
   "execution_count": 70,
   "metadata": {},
   "outputs": [],
   "source": [
    "import pandas as pd\n",
    "import numpy as np\n",
    "from sklearn.ensemble import RandomForestRegressor\n",
    "from sklearn.preprocessing import OneHotEncoder\n",
    "from sklearn.model_selection import KFold\n",
    "from sklearn.model_selection import cross_val_score\n",
    "%matplotlib inline\n"
   ]
  },
  {
   "cell_type": "code",
   "execution_count": 71,
   "metadata": {},
   "outputs": [
    {
     "name": "stderr",
     "output_type": "stream",
     "text": [
      "/tmp/ipykernel_6989/2610743058.py:1: DtypeWarning: Columns (7,8,9,10,11,20,21,22,23,24,25,26,35,53,59,60,61,62,63,64,65,66,67,68,69,70,71,72,73,74,76,77,78,79,80,81,82,83,84,85,86,87,88,89,90,91) have mixed types. Specify dtype option on import or set low_memory=False.\n",
      "  data_df = pd.read_csv('Esvd_Full_Data_8th-Dec-2023_10-11-46_Database_Version_MAY2023V1.1.csv')\n"
     ]
    }
   ],
   "source": [
    "\n",
    "data_df = pd.read_csv('Esvd_Full_Data_8th-Dec-2023_10-11-46_Database_Version_MAY2023V1.1.csv')\n",
    "data_df.fillna({'Protection Status': 'No protection'}, inplace=True)\n",
    "data_df.fillna({'Valuation Methods': 'OT'}, inplace=True)\n",
    "data_df.fillna({'Site Area In Hectares': 0.0}, inplace=True)\n",
    "data_df.fillna({'Site Length': 0.0}, inplace=True)\n",
    "\n",
    "data_df[\"Beneficiary Unit\"] = data_df[\"Beneficiary Unit\"].str.lower().str.replace('s$', '', regex=True).str.replace('individual', 'person', regex=False)\n"
   ]
  },
  {
   "cell_type": "code",
   "execution_count": 72,
   "metadata": {},
   "outputs": [
    {
     "data": {
      "text/plain": [
       "count    6.635000e+03\n",
       "mean     3.135875e+04\n",
       "std      1.044523e+06\n",
       "min      0.000000e+00\n",
       "25%      1.729425e+01\n",
       "50%      1.908251e+02\n",
       "75%      1.452423e+03\n",
       "max      7.899297e+07\n",
       "Name: Int$ Per Hectare Per Year, dtype: float64"
      ]
     },
     "execution_count": 72,
     "metadata": {},
     "output_type": "execute_result"
    },
    {
     "data": {
      "image/png": "[encoded data removed]",
      "text/plain": [
       "<Figure size 640x480 with 1 Axes>"
      ]
     },
     "metadata": {},
     "output_type": "display_data"
    }
   ],
   "source": [
    "data_df['Int$ Per Hectare Per Year'].plot(kind='hist', edgecolor='black')\n",
    "\n",
    "data_df['Int$ Per Hectare Per Year'].describe()"
   ]
  },
  {
   "cell_type": "code",
   "execution_count": 73,
   "metadata": {},
   "outputs": [
    {
     "data": {
      "text/html": [
       "<div>\n",
       "<style scoped>\n",
       "    .dataframe tbody tr th:only-of-type {\n",
       "        vertical-align: middle;\n",
       "    }\n",
       "\n",
       "    .dataframe tbody tr th {\n",
       "        vertical-align: top;\n",
       "    }\n",
       "\n",
       "    .dataframe thead th {\n",
       "        text-align: right;\n",
       "    }\n",
       "</style>\n",
       "<table border=\"1\" class=\"dataframe\">\n",
       "  <thead>\n",
       "    <tr style=\"text-align: right;\">\n",
       "      <th></th>\n",
       "      <th>ValueId</th>\n",
       "      <th>StudyId</th>\n",
       "      <th>ESVD2.0_Biome</th>\n",
       "      <th>ESVD2.0_Biome_Codes</th>\n",
       "      <th>ESVD2.0_Biome_1</th>\n",
       "      <th>ESVD2.0_Biome_2</th>\n",
       "      <th>ESVD2.0_Biome_3</th>\n",
       "      <th>ESVD2.0_Biome_4</th>\n",
       "      <th>ESVD2.0_Biome_5</th>\n",
       "      <th>ESVD2.0_Biome_6</th>\n",
       "      <th>...</th>\n",
       "      <th>Type Of Beneficiary</th>\n",
       "      <th>Int$ Per Hectare Per Year</th>\n",
       "      <th>Authors</th>\n",
       "      <th>Title</th>\n",
       "      <th>Reference</th>\n",
       "      <th>Year_Pub</th>\n",
       "      <th>Notes</th>\n",
       "      <th>Secondary Data Sources</th>\n",
       "      <th>Reviewed</th>\n",
       "      <th>inclExcl</th>\n",
       "    </tr>\n",
       "  </thead>\n",
       "  <tbody>\n",
       "    <tr>\n",
       "      <th>32</th>\n",
       "      <td>12350003</td>\n",
       "      <td>1235</td>\n",
       "      <td>Rivers and lakes; Rangelands, natural grasslan...</td>\n",
       "      <td>4; 9</td>\n",
       "      <td>Rivers and lakes</td>\n",
       "      <td>Rangelands, natural grasslands and savannas</td>\n",
       "      <td>NaN</td>\n",
       "      <td>NaN</td>\n",
       "      <td>NaN</td>\n",
       "      <td>NaN</td>\n",
       "      <td>...</td>\n",
       "      <td>Resources-dependent businesses (e.g. operators...</td>\n",
       "      <td>1.051330e+06</td>\n",
       "      <td>Gerner et al</td>\n",
       "      <td>Large scale river restoration pays off A case ...</td>\n",
       "      <td>Gerner, N. V., Nafo, I., Winking, C., Wencki, ...</td>\n",
       "      <td>2018</td>\n",
       "      <td>Two different outcomes (values) are presented ...</td>\n",
       "      <td>NaN</td>\n",
       "      <td>Yes</td>\n",
       "      <td>NaN</td>\n",
       "    </tr>\n",
       "    <tr>\n",
       "      <th>277</th>\n",
       "      <td>11960001</td>\n",
       "      <td>1196</td>\n",
       "      <td>Marine</td>\n",
       "      <td>1</td>\n",
       "      <td>Marine</td>\n",
       "      <td>NaN</td>\n",
       "      <td>NaN</td>\n",
       "      <td>NaN</td>\n",
       "      <td>NaN</td>\n",
       "      <td>NaN</td>\n",
       "      <td>...</td>\n",
       "      <td>residents</td>\n",
       "      <td>7.899297e+07</td>\n",
       "      <td>O'Connor et al</td>\n",
       "      <td>Estimating the non-market benefit value of dee...</td>\n",
       "      <td>O'Connor, E., Hynes, S., &amp; Chen, W. (2020). Es...</td>\n",
       "      <td>2020</td>\n",
       "      <td>NaN</td>\n",
       "      <td>NaN</td>\n",
       "      <td>NaN</td>\n",
       "      <td>Excluded</td>\n",
       "    </tr>\n",
       "    <tr>\n",
       "      <th>279</th>\n",
       "      <td>11940001</td>\n",
       "      <td>1194</td>\n",
       "      <td>Urban and industrial areas</td>\n",
       "      <td>15</td>\n",
       "      <td>Urban and industrial areas</td>\n",
       "      <td>NaN</td>\n",
       "      <td>NaN</td>\n",
       "      <td>NaN</td>\n",
       "      <td>NaN</td>\n",
       "      <td>NaN</td>\n",
       "      <td>...</td>\n",
       "      <td>resident</td>\n",
       "      <td>1.283010e+06</td>\n",
       "      <td>Mamani, J. C. Q., Gallardo, N. J. U., Mamani, ...</td>\n",
       "      <td>Willingness to pay for the recovery and conser...</td>\n",
       "      <td>Mamani, J. C. Q., Gallardo, N. J. U., Mamani, ...</td>\n",
       "      <td>2021</td>\n",
       "      <td>only 80.4% of the residents were willing to pa...</td>\n",
       "      <td>NaN</td>\n",
       "      <td>Yes</td>\n",
       "      <td>NaN</td>\n",
       "    </tr>\n",
       "    <tr>\n",
       "      <th>316</th>\n",
       "      <td>11800001</td>\n",
       "      <td>1180</td>\n",
       "      <td>Urban and industrial areas</td>\n",
       "      <td>15</td>\n",
       "      <td>Urban and industrial areas</td>\n",
       "      <td>NaN</td>\n",
       "      <td>NaN</td>\n",
       "      <td>NaN</td>\n",
       "      <td>NaN</td>\n",
       "      <td>NaN</td>\n",
       "      <td>...</td>\n",
       "      <td>visitors</td>\n",
       "      <td>1.756181e+07</td>\n",
       "      <td>Menendez-Carbo et al</td>\n",
       "      <td>The economic value of Malecón 2000 in Guayaqui...</td>\n",
       "      <td>Menendez-Carbo, S., Ruano, M. A., &amp; Zambrano-M...</td>\n",
       "      <td>2020</td>\n",
       "      <td>NaN</td>\n",
       "      <td>NaN</td>\n",
       "      <td>Yes</td>\n",
       "      <td>NaN</td>\n",
       "    </tr>\n",
       "    <tr>\n",
       "      <th>317</th>\n",
       "      <td>11800002</td>\n",
       "      <td>1180</td>\n",
       "      <td>Urban and industrial areas</td>\n",
       "      <td>15</td>\n",
       "      <td>Urban and industrial areas</td>\n",
       "      <td>NaN</td>\n",
       "      <td>NaN</td>\n",
       "      <td>NaN</td>\n",
       "      <td>NaN</td>\n",
       "      <td>NaN</td>\n",
       "      <td>...</td>\n",
       "      <td>visitors</td>\n",
       "      <td>2.165114e+07</td>\n",
       "      <td>Menendez-Carbo et al</td>\n",
       "      <td>The economic value of Malecón 2000 in Guayaqui...</td>\n",
       "      <td>Menendez-Carbo, S., Ruano, M. A., &amp; Zambrano-M...</td>\n",
       "      <td>2020</td>\n",
       "      <td>NaN</td>\n",
       "      <td>NaN</td>\n",
       "      <td>Yes</td>\n",
       "      <td>NaN</td>\n",
       "    </tr>\n",
       "  </tbody>\n",
       "</table>\n",
       "<p>5 rows × 127 columns</p>\n",
       "</div>"
      ],
      "text/plain": [
       "      ValueId  StudyId                                      ESVD2.0_Biome  \\\n",
       "32   12350003     1235  Rivers and lakes; Rangelands, natural grasslan...   \n",
       "277  11960001     1196                                             Marine   \n",
       "279  11940001     1194                         Urban and industrial areas   \n",
       "316  11800001     1180                         Urban and industrial areas   \n",
       "317  11800002     1180                         Urban and industrial areas   \n",
       "\n",
       "    ESVD2.0_Biome_Codes             ESVD2.0_Biome_1  \\\n",
       "32                 4; 9            Rivers and lakes   \n",
       "277                   1                      Marine   \n",
       "279                  15  Urban and industrial areas   \n",
       "316                  15  Urban and industrial areas   \n",
       "317                  15  Urban and industrial areas   \n",
       "\n",
       "                                  ESVD2.0_Biome_2 ESVD2.0_Biome_3  \\\n",
       "32    Rangelands, natural grasslands and savannas             NaN   \n",
       "277                                           NaN             NaN   \n",
       "279                                           NaN             NaN   \n",
       "316                                           NaN             NaN   \n",
       "317                                           NaN             NaN   \n",
       "\n",
       "    ESVD2.0_Biome_4 ESVD2.0_Biome_5 ESVD2.0_Biome_6  ...  \\\n",
       "32              NaN             NaN             NaN  ...   \n",
       "277             NaN             NaN             NaN  ...   \n",
       "279             NaN             NaN             NaN  ...   \n",
       "316             NaN             NaN             NaN  ...   \n",
       "317             NaN             NaN             NaN  ...   \n",
       "\n",
       "                                   Type Of Beneficiary  \\\n",
       "32   Resources-dependent businesses (e.g. operators...   \n",
       "277                                          residents   \n",
       "279                                           resident   \n",
       "316                                           visitors   \n",
       "317                                           visitors   \n",
       "\n",
       "    Int$ Per Hectare Per Year  \\\n",
       "32               1.051330e+06   \n",
       "277              7.899297e+07   \n",
       "279              1.283010e+06   \n",
       "316              1.756181e+07   \n",
       "317              2.165114e+07   \n",
       "\n",
       "                                               Authors  \\\n",
       "32                                        Gerner et al   \n",
       "277                                     O'Connor et al   \n",
       "279  Mamani, J. C. Q., Gallardo, N. J. U., Mamani, ...   \n",
       "316                               Menendez-Carbo et al   \n",
       "317                               Menendez-Carbo et al   \n",
       "\n",
       "                                                 Title  \\\n",
       "32   Large scale river restoration pays off A case ...   \n",
       "277  Estimating the non-market benefit value of dee...   \n",
       "279  Willingness to pay for the recovery and conser...   \n",
       "316  The economic value of Malecón 2000 in Guayaqui...   \n",
       "317  The economic value of Malecón 2000 in Guayaqui...   \n",
       "\n",
       "                                             Reference Year_Pub  \\\n",
       "32   Gerner, N. V., Nafo, I., Winking, C., Wencki, ...     2018   \n",
       "277  O'Connor, E., Hynes, S., & Chen, W. (2020). Es...     2020   \n",
       "279  Mamani, J. C. Q., Gallardo, N. J. U., Mamani, ...     2021   \n",
       "316  Menendez-Carbo, S., Ruano, M. A., & Zambrano-M...     2020   \n",
       "317  Menendez-Carbo, S., Ruano, M. A., & Zambrano-M...     2020   \n",
       "\n",
       "                                                 Notes Secondary Data Sources  \\\n",
       "32   Two different outcomes (values) are presented ...                    NaN   \n",
       "277                                                NaN                    NaN   \n",
       "279  only 80.4% of the residents were willing to pa...                    NaN   \n",
       "316                                                NaN                    NaN   \n",
       "317                                                NaN                    NaN   \n",
       "\n",
       "    Reviewed  inclExcl  \n",
       "32       Yes       NaN  \n",
       "277      NaN  Excluded  \n",
       "279      Yes       NaN  \n",
       "316      Yes       NaN  \n",
       "317      Yes       NaN  \n",
       "\n",
       "[5 rows x 127 columns]"
      ]
     },
     "execution_count": 73,
     "metadata": {},
     "output_type": "execute_result"
    }
   ],
   "source": [
    "data_df[data_df['Int$ Per Hectare Per Year'] > 1000000].head()"
   ]
  },
  {
   "cell_type": "code",
   "execution_count": 74,
   "metadata": {},
   "outputs": [
    {
     "name": "stdout",
     "output_type": "stream",
     "text": [
      "6024\n",
      "611\n"
     ]
    }
   ],
   "source": [
    "train_index = data_df.index[(data_df['Int$ Per Hectare Per Year'] > 1) & (data_df['Int$ Per Hectare Per Year'] < 1000000)]\n",
    "test_index = data_df.index[(data_df['Int$ Per Hectare Per Year'] < 1) | (data_df['Int$ Per Hectare Per Year'] > 1000000)]\n",
    "print (len(train_index))\n",
    "print (len(test_index))"
   ]
  },
  {
   "cell_type": "code",
   "execution_count": 75,
   "metadata": {},
   "outputs": [
    {
     "data": {
      "text/plain": [
       "(6635, 127)"
      ]
     },
     "execution_count": 75,
     "metadata": {},
     "output_type": "execute_result"
    }
   ],
   "source": [
    "data_df[data_df['Int$ Per Hectare Per Year'].notnull()].shape"
   ]
  },
  {
   "cell_type": "code",
   "execution_count": 76,
   "metadata": {},
   "outputs": [
    {
     "name": "stdout",
     "output_type": "stream",
     "text": [
      "2865\n"
     ]
    }
   ],
   "source": [
    "previous_null_len = len(data_df[data_df['Int$ Per Hectare Per Year'].isna()])\n",
    "print (previous_null_len)"
   ]
  },
  {
   "cell_type": "code",
   "execution_count": 77,
   "metadata": {},
   "outputs": [],
   "source": [
    "data_df.loc[test_index, \"Int$ Per Hectare Per Year\"] = np.nan"
   ]
  },
  {
   "cell_type": "code",
   "execution_count": 78,
   "metadata": {},
   "outputs": [
    {
     "data": {
      "text/plain": [
       "(3476, 127)"
      ]
     },
     "execution_count": 78,
     "metadata": {},
     "output_type": "execute_result"
    }
   ],
   "source": [
    "data_df[data_df['Int$ Per Hectare Per Year'].isna()].shape"
   ]
  },
  {
   "cell_type": "code",
   "execution_count": 79,
   "metadata": {},
   "outputs": [
    {
     "data": {
      "text/plain": [
       "3476"
      ]
     },
     "execution_count": 79,
     "metadata": {},
     "output_type": "execute_result"
    }
   ],
   "source": [
    "len(test_index) + previous_null_len"
   ]
  },
  {
   "cell_type": "code",
   "execution_count": 80,
   "metadata": {},
   "outputs": [
    {
     "data": {
      "text/plain": [
       "count      6024.000000\n",
       "mean       9023.290764\n",
       "std       50177.972638\n",
       "min           1.004200\n",
       "25%          37.892675\n",
       "50%         282.549200\n",
       "75%        1730.825625\n",
       "max      880238.726500\n",
       "Name: Int$ Per Hectare Per Year, dtype: float64"
      ]
     },
     "execution_count": 80,
     "metadata": {},
     "output_type": "execute_result"
    },
    {
     "data": {
      "image/png": "[encoded data removed]",
      "text/plain": [
       "<Figure size 1000x500 with 1 Axes>"
      ]
     },
     "metadata": {},
     "output_type": "display_data"
    }
   ],
   "source": [
    "data_df['Int$ Per Hectare Per Year'].plot(kind='hist', edgecolor='black', title='Int$ Per Hectare Per Year', bins=20, figsize=(10, 5))\n",
    "\n",
    "data_df['Int$ Per Hectare Per Year'].describe()"
   ]
  },
  {
   "cell_type": "markdown",
   "metadata": {},
   "source": [
    "It is not straightforward to handle the Country_Codes column. If I use the one hot encoding, the dimensionality will likely explode."
   ]
  },
  {
   "cell_type": "code",
   "execution_count": 81,
   "metadata": {},
   "outputs": [
    {
     "name": "stdout",
     "output_type": "stream",
     "text": [
      "1852    MEX; BLZ; HND; GTM\n",
      "Name: Country_Codes, dtype: object\n"
     ]
    }
   ],
   "source": [
    "print (data_df[data_df[\"ValueId\"] == 10440027][\"Country_Codes\"])"
   ]
  },
  {
   "cell_type": "code",
   "execution_count": 82,
   "metadata": {},
   "outputs": [],
   "source": [
    "\n",
    "#countries_codes = [x.strip() for x in str(row['Country_Codes']).split(';') if str(row['Country_Codes']) != \"nan\"]\n",
    "\n",
    "data_df[\"Country_Codes\"] = data_df[\"Country_Codes\"].str.split(pat=\"; \")"
   ]
  },
  {
   "cell_type": "code",
   "execution_count": 83,
   "metadata": {},
   "outputs": [
    {
     "name": "stdout",
     "output_type": "stream",
     "text": [
      "1852    [MEX, BLZ, HND, GTM]\n",
      "Name: Country_Codes, dtype: object\n"
     ]
    }
   ],
   "source": [
    "\n",
    "print (data_df[data_df[\"ValueId\"] == 10440027][\"Country_Codes\"])"
   ]
  },
  {
   "cell_type": "code",
   "execution_count": 84,
   "metadata": {},
   "outputs": [],
   "source": [
    "countries = pd.read_csv('countries.csv')\n",
    "\n",
    "countries_countries = {}\n",
    "\n",
    "countries_countries[\"WLD\"] = {\"name\": \"World\", \"sub_region\": \"World\", \"region\": \"World\"}\n",
    "\n",
    "for index, row in countries.iterrows():\n",
    "    code = row['alpha-3']\n",
    "    name = row['name']\n",
    "    region = row['region']\n",
    "    sub_region = row['sub-region']\n",
    "\n",
    "    countries_countries[code] = {\"name\": name, \"sub_region\": sub_region, \"region\": region}"
   ]
  },
  {
   "cell_type": "code",
   "execution_count": 85,
   "metadata": {},
   "outputs": [],
   "source": [
    "subregions = []\n",
    "for index, row in data_df.iterrows():\n",
    "    if isinstance(row['Country_Codes'], list):\n",
    "        if len(row['Country_Codes']) ==0:\n",
    "            subregion.append(\"WLD\")\n",
    "        else:\n",
    "            temp = \"\"\n",
    "\n",
    "            for c in row['Country_Codes']:\n",
    "                #print (c)\n",
    "                subregion = countries_countries[c][\"sub_region\"]\n",
    "\n",
    "                if temp == \"\":\n",
    "                    temp = subregion\n",
    "                else:\n",
    "                    if temp != subregion:\n",
    "                        temp = \"WLD\"\n",
    "                        break\n",
    "            subregions.append(temp)\n",
    "    else:   \n",
    "        subregions.append(\"WLD\")\n",
    "\n",
    "data_df[\"subregion\"] = subregions"
   ]
  },
  {
   "cell_type": "code",
   "execution_count": 86,
   "metadata": {},
   "outputs": [
    {
     "data": {
      "text/plain": [
       "0    Western Europe\n",
       "1    Western Europe\n",
       "2    Western Europe\n",
       "3    Western Europe\n",
       "4    Western Europe\n",
       "Name: subregion, dtype: object"
      ]
     },
     "execution_count": 86,
     "metadata": {},
     "output_type": "execute_result"
    }
   ],
   "source": [
    "data_df[\"subregion\"].head()"
   ]
  },
  {
   "cell_type": "code",
   "execution_count": 87,
   "metadata": {},
   "outputs": [
    {
     "data": {
      "text/plain": [
       "array([ 1,  0,  2,  4, -1,  3], dtype=int8)"
      ]
     },
     "execution_count": 87,
     "metadata": {},
     "output_type": "execute_result"
    }
   ],
   "source": [
    "\n",
    "data_df[\"beneficiary_unit_codes\"] = pd.Categorical(data_df[\"Beneficiary Unit\"]).codes\n",
    "data_df[\"beneficiary_unit_codes\"].unique()"
   ]
  },
  {
   "cell_type": "code",
   "execution_count": 88,
   "metadata": {},
   "outputs": [
    {
     "data": {
      "text/plain": [
       "array(['No protection', 'Protected', 'Partially protected'], dtype=object)"
      ]
     },
     "execution_count": 88,
     "metadata": {},
     "output_type": "execute_result"
    }
   ],
   "source": [
    "data_df[\"Protection Status\"].unique()"
   ]
  },
  {
   "cell_type": "code",
   "execution_count": 89,
   "metadata": {},
   "outputs": [
    {
     "data": {
      "text/plain": [
       "array([0, 2, 1], dtype=int8)"
      ]
     },
     "execution_count": 89,
     "metadata": {},
     "output_type": "execute_result"
    }
   ],
   "source": [
    "#data_df[\"protection_status_one_hot\"] = data_df[\"Protection Status\"].astype('category').cat.codes\n",
    "\n",
    "data_df[\"protection_status_codes\"] = pd.Categorical(data_df[\"Protection Status\"]).codes\n",
    "data_df[\"protection_status_codes\"].unique()"
   ]
  },
  {
   "cell_type": "code",
   "execution_count": 90,
   "metadata": {},
   "outputs": [
    {
     "data": {
      "text/plain": [
       "array([  0,  25,  37,  90,  14,  39,   4,  96,  55,  69,  87, 100,  75,\n",
       "        89, 101,  38,  62,  97,  51,   5,  61,  64,  56,  80,  81,  58,\n",
       "        60,  44,  41,   6,  17,  19,  49,  20,  22,  70,  16,  48,  40,\n",
       "        52,  54,  63,  23,  50,  42,  53,  57,  18,  71,  21,  68,  98,\n",
       "        24,  99, 103, 104,   3,  84, 102,  34,  13,  66,   1,  82,  85,\n",
       "        67,  59,  88,  35,  33,  83,  32,  92,  31,  27,  45,  43,  91,\n",
       "        76,  15,   2,  78,  95,  74,  86,  79,  29,  93,   9,  30,  11,\n",
       "        47,  94,   8,  10,  65,  77,  73,  36,  72,  26,  28,  12,   7,\n",
       "        46], dtype=int8)"
      ]
     },
     "execution_count": 90,
     "metadata": {},
     "output_type": "execute_result"
    }
   ],
   "source": [
    "data_df[\"valuation_methods_codes\"] = pd.Categorical(data_df[\"Valuation Methods\"]).codes\n",
    "data_df[\"valuation_methods_codes\"].unique()"
   ]
  },
  {
   "cell_type": "code",
   "execution_count": 91,
   "metadata": {},
   "outputs": [
    {
     "data": {
      "text/plain": [
       "array([17,  4, 18,  7, 14, 13,  8, 12, 16,  1,  3,  9,  2,  5, 15, 11,  6,\n",
       "        0, 10], dtype=int8)"
      ]
     },
     "execution_count": 91,
     "metadata": {},
     "output_type": "execute_result"
    }
   ],
   "source": [
    "data_df[\"subregion_codes\"] = pd.Categorical(data_df[\"subregion\"]).codes\n",
    "data_df[\"subregion_codes\"].unique()"
   ]
  },
  {
   "cell_type": "code",
   "execution_count": 92,
   "metadata": {},
   "outputs": [
    {
     "data": {
      "text/plain": [
       "array(['Visual amenity services', 'Ecosystem and species appreciation',\n",
       "       'Air filtration services; Local (micro and meso) climate regulation services; Noise attenuation services',\n",
       "       'Visual amenity services; Air filtration services; Ecosystem and species appreciation; Noise attenuation services',\n",
       "       'Recreation-related services',\n",
       "       'Recreation-related services; Visual amenity services; Education, scientific and research services; Spiritual, artistic and symbolic services; Other cultural services',\n",
       "       'Peak flow mitigation services',\n",
       "       'Education, scientific and research services',\n",
       "       'Wood provisioning services', 'Global climate regulation services',\n",
       "       'Wild animals, plants and other biomass provisioning services; Recreation-related services',\n",
       "       'Global climate regulation services; Local (micro and meso) climate regulation services; Air filtration services; Peak flow mitigation services; River flood mitigation services; Noise attenuation services; Recreation-related services; Visual amenity services',\n",
       "       'Peak flow mitigation services; River flood mitigation services',\n",
       "       'Livestock provisioning services', 'Water supply',\n",
       "       'Crop provisioning services',\n",
       "       'Wild fish and other natural aquatic biomass provisioning services; Recreation-related services',\n",
       "       'Recreation-related services; Visual amenity services',\n",
       "       'Retention and breakdown of nutrients',\n",
       "       'Aquaculture provisioning services',\n",
       "       'Retention and breakdown of other pollutants',\n",
       "       'Nursery population and habitat maintenance services',\n",
       "       'Coastal protection services', 'River flood mitigation services',\n",
       "       'Ecosystem and species appreciation; Recreation-related services',\n",
       "       'Pollination services',\n",
       "       'Ecosystem and species appreciation; Spiritual, artistic and symbolic services; Recreation-related services',\n",
       "       'Baseline flow maintenance services',\n",
       "       'Local (micro and meso) climate regulation services',\n",
       "       'Retention and breakdown of nutrients; Retention and breakdown of other pollutants',\n",
       "       'Ecosystem and species appreciation; River flood mitigation services; Grazed biomass provisioning services; Retention and breakdown of nutrients',\n",
       "       'Air filtration services',\n",
       "       'Wild fish and other natural aquatic biomass provisioning services',\n",
       "       'Spiritual, artistic and symbolic services',\n",
       "       'Wild animals, plants and other biomass provisioning services',\n",
       "       'Soil erosion control services; Nursery population and habitat maintenance services; Grazed biomass provisioning services; Water supply',\n",
       "       'Soil erosion control services',\n",
       "       'Grazed biomass provisioning services',\n",
       "       'Nursery population and habitat maintenance services; Soil erosion control services; Global climate regulation services; Wild animals, plants and other biomass provisioning services',\n",
       "       'Water supply; Recreation-related services',\n",
       "       'Rainfall pattern regulation services (at sub-continental scale); Crop provisioning services',\n",
       "       'Soil erosion control services; Global climate regulation services; Water supply',\n",
       "       'Ecosystem and species appreciation; Crop provisioning services',\n",
       "       'Local (micro and meso) climate regulation services; Air filtration services; Soil erosion control services; Noise attenuation services; River flood mitigation services; Visual amenity services',\n",
       "       'Nursery population and habitat maintenance services; Coastal protection services; Soil erosion control services; Wild fish and other natural aquatic biomass provisioning services; Water supply; Recreation-related services; Ecosystem and species appreciation',\n",
       "       'Nursery population and habitat maintenance services; Retention and breakdown of nutrients; Global climate regulation services; Aquaculture provisioning services; Disease control services; Baseline flow maintenance services; Peak flow mitigation services; Ecosystem and species appreciation',\n",
       "       'Rainfall pattern regulation services (at sub-continental scale)',\n",
       "       'Soil quality regulation services',\n",
       "       'Ecosystem and species appreciation; Water supply',\n",
       "       'Retention and breakdown of other pollutants; Soil erosion control services; Soil quality regulation services; Rainfall pattern regulation services (at sub-continental scale); Water supply',\n",
       "       'Recreation-related services; Water supply',\n",
       "       'Wild animals, plants and other biomass provisioning services; Wood provisioning services; Crop provisioning services; Grazed biomass provisioning services',\n",
       "       'Crop provisioning services; Grazed biomass provisioning services',\n",
       "       'Livestock provisioning services; Wood provisioning services; Other provisioning services',\n",
       "       'Global climate regulation services; Soil erosion control services; Soil quality regulation services; Baseline flow maintenance services',\n",
       "       'Grazed biomass provisioning services; Livestock provisioning services',\n",
       "       'Crop provisioning services; Water supply',\n",
       "       'Other provisioning services',\n",
       "       'Livestock provisioning services; Water supply; Grazed biomass provisioning services; Wood provisioning services; Other provisioning services; River flood mitigation services; Nursery population and habitat maintenance services; Recreation-related services; Ecosystem and species appreciation',\n",
       "       'Livestock provisioning services; Water supply; Grazed biomass provisioning services; Wood provisioning services; Other provisioning services; River flood mitigation services; Nursery population and habitat maintenance services; Recreation-related services',\n",
       "       'Wild animals, plants and other biomass provisioning services; Grazed biomass provisioning services',\n",
       "       'Crop provisioning services; Wood provisioning services; Wild animals, plants and other biomass provisioning services',\n",
       "       'Wood provisioning services; Wild animals, plants and other biomass provisioning services',\n",
       "       'Crop provisioning services; Water supply; Wood provisioning services; Grazed biomass provisioning services; Wild animals, plants and other biomass provisioning services; Other provisioning services; Global climate regulation services',\n",
       "       'Crop provisioning services; Water supply; Wood provisioning services; Grazed biomass provisioning services; Wild animals, plants and other biomass provisioning services; Global climate regulation services',\n",
       "       'Crop provisioning services; Wood provisioning services; Grazed biomass provisioning services; Wild animals, plants and other biomass provisioning services; Global climate regulation services; Other provisioning services',\n",
       "       'Crop provisioning services; Wood provisioning services; Grazed biomass provisioning services; Wild animals, plants and other biomass provisioning services; Global climate regulation services; Coastal protection services; Soil erosion control services',\n",
       "       'Crop provisioning services; Wood provisioning services; Grazed biomass provisioning services; Wild animals, plants and other biomass provisioning services; Global climate regulation services',\n",
       "       'Crop provisioning services; Wild animals, plants and other biomass provisioning services; Water supply; Soil erosion control services; Local (micro and meso) climate regulation services; Soil quality regulation services',\n",
       "       'Crop provisioning services; Livestock provisioning services; Wood provisioning services; Grazed biomass provisioning services; Wild animals, plants and other biomass provisioning services; Global climate regulation services; Other provisioning services',\n",
       "       'Crop provisioning services; Wood provisioning services; Grazed biomass provisioning services; Wild animals, plants and other biomass provisioning services; Other provisioning services; Water supply; Soil erosion control services',\n",
       "       'Crop provisioning services; Livestock provisioning services; Water supply; Grazed biomass provisioning services; Wood provisioning services; Other provisioning services; Global climate regulation services; Soil quality regulation services; Nursery population and habitat maintenance services; Recreation-related services',\n",
       "       'Crop provisioning services; Grazed biomass provisioning services; Wood provisioning services; Global climate regulation services; Soil quality regulation services; Nursery population and habitat maintenance services; Education, scientific and research services',\n",
       "       'Crop provisioning services; Grazed biomass provisioning services; Water supply; Wood provisioning services; Other provisioning services; Global climate regulation services; Soil quality regulation services; Nursery population and habitat maintenance services; Visual amenity services',\n",
       "       'Livestock provisioning services; Grazed biomass provisioning services; Baseline flow maintenance services; Wild animals, plants and other biomass provisioning services; Other provisioning services; Wood provisioning services; Global climate regulation services',\n",
       "       'Livestock provisioning services; Grazed biomass provisioning services',\n",
       "       'Livestock provisioning services; Grazed biomass provisioning services; Baseline flow maintenance services; Wild animals, plants and other biomass provisioning services; Other provisioning services; Wood provisioning services; Global climate regulation services; Recreation-related services',\n",
       "       'Soil erosion control services; Soil quality regulation services',\n",
       "       'Grazed biomass provisioning services; Crop provisioning services',\n",
       "       nan,\n",
       "       'Soil erosion control services; Soil quality regulation services; Grazed biomass provisioning services; Crop provisioning services; Visual amenity services',\n",
       "       'Soil erosion control services; Soil quality regulation services; Grazed biomass provisioning services; Crop provisioning services; Visual amenity services; Global climate regulation services',\n",
       "       'Crop provisioning services; Visual amenity services',\n",
       "       'Crop provisioning services; Global climate regulation services; Grazed biomass provisioning services; Wild animals, plants and other biomass provisioning services; Recreation-related services',\n",
       "       'Crop provisioning services; Grazed biomass provisioning services; Water supply; Retention and breakdown of nutrients; Global climate regulation services; Local (micro and meso) climate regulation services; Soil erosion control services; Recreation-related services; Education, scientific and research services; Visual amenity services',\n",
       "       'Wood provisioning services; Water supply; Soil quality regulation services; Soil erosion control services; Baseline flow maintenance services; River flood mitigation services; Peak flow mitigation services; Recreation-related services',\n",
       "       'Crop provisioning services; Livestock provisioning services; Wood provisioning services; Water supply; Soil quality regulation services; Soil erosion control services; Baseline flow maintenance services; River flood mitigation services; Peak flow mitigation services; Recreation-related services',\n",
       "       'Wild fish and other natural aquatic biomass provisioning services; Other provisioning services; Global climate regulation services; Rainfall pattern regulation services (at sub-continental scale); Grazed biomass provisioning services; Nursery population and habitat maintenance services; Recreation-related services; Retention and breakdown of nutrients',\n",
       "       'Crop provisioning services; Global climate regulation services; Grazed biomass provisioning services; Wild animals, plants and other biomass provisioning services; Recreation-related services; Water supply',\n",
       "       'Global climate regulation services; Grazed biomass provisioning services; Wild animals, plants and other biomass provisioning services; Water supply',\n",
       "       'Grazed biomass provisioning services; Wild fish and other natural aquatic biomass provisioning services; Water supply; Global climate regulation services; Recreation-related services; Education, scientific and research services; Visual amenity services',\n",
       "       'Crop provisioning services; Baseline flow maintenance services; Grazed biomass provisioning services; Wild animals, plants and other biomass provisioning services; Soil quality regulation services; Soil erosion control services; Air filtration services; Nursery population and habitat maintenance services',\n",
       "       'Crop provisioning services; Global climate regulation services; Baseline flow maintenance services; Grazed biomass provisioning services; Wild animals, plants and other biomass provisioning services; Soil quality regulation services; Soil erosion control services; Air filtration services; Nursery population and habitat maintenance services',\n",
       "       'Soil quality regulation services; Wood provisioning services; Other provisioning services',\n",
       "       'Soil quality regulation services; Wood provisioning services; Other provisioning services; Soil erosion control services',\n",
       "       'Soil quality regulation services; Wood provisioning services; Other provisioning services; Soil erosion control services; Baseline flow maintenance services',\n",
       "       'Soil quality regulation services; Wood provisioning services; Other provisioning services; Soil erosion control services; Baseline flow maintenance services; Global climate regulation services',\n",
       "       'Wood provisioning services; Crop provisioning services',\n",
       "       'Wood provisioning services; Crop provisioning services; Baseline flow maintenance services; Soil quality regulation services',\n",
       "       'Wood provisioning services; Crop provisioning services; Baseline flow maintenance services; Soil quality regulation services; Global climate regulation services',\n",
       "       'Crop provisioning services; Retention and breakdown of other pollutants',\n",
       "       'Crop provisioning services; Retention and breakdown of other pollutants; Global climate regulation services',\n",
       "       'Biomass provisioning services',\n",
       "       'Global climate regulation services; Soil erosion control services',\n",
       "       'Wood provisioning services; Livestock provisioning services',\n",
       "       'Water supply; Wood provisioning services; Soil erosion control services; Global climate regulation services; Recreation-related services',\n",
       "       'Global climate regulation services; Soil erosion control services; Baseline flow maintenance services',\n",
       "       'Global climate regulation services; Soil erosion control services; Water supply',\n",
       "       'Global climate regulation services; Water supply; Recreation-related services',\n",
       "       'Global climate regulation services; Baseline flow maintenance services; Water supply',\n",
       "       'Recreation-related services; Ecosystem and species appreciation',\n",
       "       'Crop provisioning services; Wood provisioning services',\n",
       "       'Visual amenity services; Recreation-related services; Spiritual, artistic and symbolic services',\n",
       "       'Recreation-related services; Wild fish and other natural aquatic biomass provisioning services',\n",
       "       'Pest control services',\n",
       "       'Solid waste remediation services; Retention and breakdown of nutrients; Retention and breakdown of other pollutants',\n",
       "       'Storm mitigation services',\n",
       "       'Soil erosion control services; Crop provisioning services',\n",
       "       'Ecosystem and species appreciation; Visual amenity services',\n",
       "       'Ecosystem and species appreciation; Other provisioning services',\n",
       "       'Genetic material services',\n",
       "       'Pest control services; Disease control services',\n",
       "       'Solid waste remediation services', 'Other cultural services',\n",
       "       'Crop provisioning services; Baseline flow maintenance services',\n",
       "       'Rainfall pattern regulation services (at sub-continental scale); Ecosystem and species appreciation',\n",
       "       'Water supply; Peak flow mitigation services; River flood mitigation services; Visual amenity services',\n",
       "       'Ecosystem and species appreciation; Wild fish and other natural aquatic biomass provisioning services',\n",
       "       'River flood mitigation services; Peak flow mitigation services',\n",
       "       'Wild fish and other natural aquatic biomass provisioning services; Wild animals, plants and other biomass provisioning services',\n",
       "       'Local (micro and meso) climate regulation services; Global climate regulation services',\n",
       "       'Global climate regulation services; Nursery population and habitat maintenance services; Ecosystem and species appreciation',\n",
       "       'Wild animals, plants and other biomass provisioning services; Wood provisioning services; Grazed biomass provisioning services; Other provisioning services',\n",
       "       'Wild fish and other natural aquatic biomass provisioning services; Livestock provisioning services; Crop provisioning services; Wild animals, plants and other biomass provisioning services; Wood provisioning services; Other provisioning services',\n",
       "       'Nursery population and habitat maintenance services; Ecosystem and species appreciation',\n",
       "       'Wild animals, plants and other biomass provisioning services; Other provisioning services',\n",
       "       'Water supply; Wood provisioning services; Soil erosion control services',\n",
       "       'Visual amenity services; Recreation-related services',\n",
       "       'Soil quality regulation services; Pollination services',\n",
       "       'Wild fish and other natural aquatic biomass provisioning services; Global climate regulation services',\n",
       "       'Wild animals, plants and other biomass provisioning services; Wood provisioning services; Other provisioning services',\n",
       "       'Spiritual, artistic and symbolic services; Other cultural services',\n",
       "       'Water supply; Global climate regulation services; River flood mitigation services; Retention and breakdown of nutrients',\n",
       "       'Wild fish and other natural aquatic biomass provisioning services; Crop provisioning services',\n",
       "       'Crop provisioning services; Wild animals, plants and other biomass provisioning services; Wood provisioning services; Grazed biomass provisioning services; Other provisioning services',\n",
       "       'Crop provisioning services; Wood provisioning services; Pest control services',\n",
       "       'Wild animals, plants and other biomass provisioning services; Crop provisioning services',\n",
       "       'Visual amenity services; Recreation-related services; Other cultural services',\n",
       "       'Other provisioning services; Visual amenity services; Recreation-related services; Other cultural services',\n",
       "       'Wild fish and other natural aquatic biomass provisioning services; Other provisioning services; Visual amenity services; Recreation-related services; Other cultural services',\n",
       "       'Recreation-related services; Other cultural services',\n",
       "       'Visual amenity services; Recreation-related services; Spiritual, artistic and symbolic services; Other cultural services',\n",
       "       'Visual amenity services; Recreation-related services; Ecosystem and species appreciation',\n",
       "       'Recreation-related services; Education, scientific and research services',\n",
       "       'Other provisioning services; Visual amenity services; Recreation-related services; Other cultural services; Education, scientific and research services',\n",
       "       'Wild fish and other natural aquatic biomass provisioning services; Nursery population and habitat maintenance services',\n",
       "       'Aquaculture provisioning services; Wild fish and other natural aquatic biomass provisioning services',\n",
       "       'Storm mitigation services; Coastal protection services',\n",
       "       'Solid waste remediation services; Disease control services; Nursery population and habitat maintenance services; Ecosystem and species appreciation',\n",
       "       'Wild fish and other natural aquatic biomass provisioning services; Nursery population and habitat maintenance services; Recreation-related services; Ecosystem and species appreciation',\n",
       "       'Crop provisioning services; Water supply; Grazed biomass provisioning services; Air filtration services; Global climate regulation services; Recreation-related services',\n",
       "       'Crop provisioning services; Water supply; Wood provisioning services; Grazed biomass provisioning services; Air filtration services; Global climate regulation services; Retention and breakdown of other pollutants',\n",
       "       'Education, scientific and research services; Ecosystem and species appreciation',\n",
       "       'Wood provisioning services; Other provisioning services',\n",
       "       'Aquaculture provisioning services; Crop provisioning services',\n",
       "       'Global climate regulation services; Pest control services',\n",
       "       'Nursery population and habitat maintenance services; Recreation-related services',\n",
       "       'Nursery population and habitat maintenance services; Recreation-related services; Ecosystem and species appreciation',\n",
       "       'Other provisioning services; Wild animals, plants and other biomass provisioning services',\n",
       "       'Wood provisioning services; Ecosystem and species appreciation',\n",
       "       'Water supply; Baseline flow maintenance services',\n",
       "       'Wild animals, plants and other biomass provisioning services; Wild fish and other natural aquatic biomass provisioning services',\n",
       "       'Ecosystem and species appreciation; Recreation-related services; Retention and breakdown of nutrients; Retention and breakdown of other pollutants',\n",
       "       'Visual amenity services; Ecosystem and species appreciation',\n",
       "       'Ecosystem and species appreciation; Other cultural services',\n",
       "       'Nursery population and habitat maintenance services; Visual amenity services; Recreation-related services',\n",
       "       'Wild animals, plants and other biomass provisioning services; Nursery population and habitat maintenance services',\n",
       "       'Wild fish and other natural aquatic biomass provisioning services; Wood provisioning services; Other provisioning services',\n",
       "       'Genetic material services; Wild animals, plants and other biomass provisioning services',\n",
       "       'Wild animals, plants and other biomass provisioning services; Wood provisioning services; Recreation-related services',\n",
       "       'Ecosystem and species appreciation; Storm mitigation services; Coastal protection services; Wild fish and other natural aquatic biomass provisioning services',\n",
       "       'Storm mitigation services; Baseline flow maintenance services; Peak flow mitigation services; River flood mitigation services',\n",
       "       'Crop provisioning services; Wild fish and other natural aquatic biomass provisioning services',\n",
       "       'Storm mitigation services; Soil erosion control services; Wild fish and other natural aquatic biomass provisioning services; Retention and breakdown of nutrients',\n",
       "       'Soil erosion control services; Pest control services; Wild fish and other natural aquatic biomass provisioning services',\n",
       "       'Soil erosion control services; Pest control services',\n",
       "       'Recreation-related services; Education, scientific and research services; Ecosystem and species appreciation',\n",
       "       'Wild fish and other natural aquatic biomass provisioning services; Livestock provisioning services; Wild animals, plants and other biomass provisioning services; Other provisioning services; Nursery population and habitat maintenance services; Recreation-related services',\n",
       "       'Wild fish and other natural aquatic biomass provisioning services; Livestock provisioning services; Crop provisioning services; Other provisioning services; Nursery population and habitat maintenance services; Recreation-related services',\n",
       "       'Wild fish and other natural aquatic biomass provisioning services; Livestock provisioning services; Wild animals, plants and other biomass provisioning services; Other provisioning services',\n",
       "       'Visual amenity services; Other cultural services',\n",
       "       'Crop provisioning services; Aquaculture provisioning services',\n",
       "       'River flood mitigation services; Soil erosion control services',\n",
       "       'Storm mitigation services; Soil erosion control services',\n",
       "       'Ecosystem and species appreciation; Storm mitigation services',\n",
       "       'Wild animals, plants and other biomass provisioning services; Visual amenity services',\n",
       "       'Wild fish and other natural aquatic biomass provisioning services; Wood provisioning services; Storm mitigation services; Soil erosion control services',\n",
       "       'Wild fish and other natural aquatic biomass provisioning services; Wood provisioning services',\n",
       "       'Livestock provisioning services; Wild animals, plants and other biomass provisioning services',\n",
       "       'Crop provisioning services; Wild animals, plants and other biomass provisioning services',\n",
       "       'Visual amenity services; Spiritual, artistic and symbolic services',\n",
       "       'River flood mitigation services; Visual amenity services',\n",
       "       'Crop provisioning services; Other provisioning services',\n",
       "       'Wild fish and other natural aquatic biomass provisioning services; Crop provisioning services; Wild animals, plants and other biomass provisioning services',\n",
       "       'Wild animals, plants and other biomass provisioning services; Soil quality regulation services',\n",
       "       'Wild fish and other natural aquatic biomass provisioning services; Water supply; Recreation-related services; Education, scientific and research services; Other cultural services',\n",
       "       'Wild fish and other natural aquatic biomass provisioning services; Visual amenity services; Recreation-related services',\n",
       "       'Visual amenity services; Recreation-related services; Education, scientific and research services',\n",
       "       'Wild animals, plants and other biomass provisioning services; Wood provisioning services',\n",
       "       'Nursery population and habitat maintenance services; Visual amenity services',\n",
       "       'Wild fish and other natural aquatic biomass provisioning services; Wild animals, plants and other biomass provisioning services; Crop provisioning services',\n",
       "       'Global climate regulation services; Retention and breakdown of nutrients; Nursery population and habitat maintenance services',\n",
       "       'Disease control services',\n",
       "       'Soil quality regulation services; Peak flow mitigation services',\n",
       "       'Livestock provisioning services; Crop provisioning services',\n",
       "       'Livestock provisioning services; Crop provisioning services; Wild animals, plants and other biomass provisioning services',\n",
       "       'Retention and breakdown of nutrients; Retention and breakdown of other pollutants; Air filtration services',\n",
       "       'Visual amenity services; Other cultural services; Spiritual, artistic and symbolic services; Ecosystem and species appreciation',\n",
       "       'Wild animals, plants and other biomass provisioning services; Other provisioning services; Genetic material services',\n",
       "       'Wild fish and other natural aquatic biomass provisioning services; Other provisioning services',\n",
       "       'River flood mitigation services; Ecosystem and species appreciation',\n",
       "       'Wild fish and other natural aquatic biomass provisioning services; Nursery population and habitat maintenance services; Soil quality regulation services',\n",
       "       'Recreation-related services; Storm mitigation services; Soil erosion control services',\n",
       "       'Water supply; River flood mitigation services',\n",
       "       'Wild fish and other natural aquatic biomass provisioning services; Wild animals, plants and other biomass provisioning services; Crop provisioning services; Other provisioning services',\n",
       "       'Wild fish and other natural aquatic biomass provisioning services; Wild animals, plants and other biomass provisioning services; Wood provisioning services; Other provisioning services',\n",
       "       'Recreation-related services; Nursery population and habitat maintenance services; River flood mitigation services; Retention and breakdown of nutrients; Retention and breakdown of other pollutants',\n",
       "       'Water supply; Grazed biomass provisioning services; Genetic material services; Nursery population and habitat maintenance services; Other cultural services; Spiritual, artistic and symbolic services',\n",
       "       'Wood provisioning services; Grazed biomass provisioning services; Genetic material services',\n",
       "       'Retention and breakdown of nutrients; Retention and breakdown of other pollutants; Nursery population and habitat maintenance services; Visual amenity services',\n",
       "       'Retention and breakdown of nutrients; Retention and breakdown of other pollutants; Visual amenity services',\n",
       "       'Aquaculture provisioning services; Wild fish and other natural aquatic biomass provisioning services; Wild animals, plants and other biomass provisioning services; Recreation-related services',\n",
       "       'Soil erosion control services; Nursery population and habitat maintenance services',\n",
       "       'Nursery population and habitat maintenance services; Spiritual, artistic and symbolic services',\n",
       "       'Wild fish and other natural aquatic biomass provisioning services; Aquaculture provisioning services; Wood provisioning services; Wild animals, plants and other biomass provisioning services',\n",
       "       'Wild animals, plants and other biomass provisioning services; Water supply; Solid waste remediation services; Recreation-related services'],\n",
       "      dtype=object)"
      ]
     },
     "execution_count": 92,
     "metadata": {},
     "output_type": "execute_result"
    }
   ],
   "source": [
    "data_df[\"SEEA\"].unique()"
   ]
  },
  {
   "cell_type": "code",
   "execution_count": 93,
   "metadata": {},
   "outputs": [
    {
     "name": "stdout",
     "output_type": "stream",
     "text": [
      "(6024, 6)\n",
      "(6024, 1)\n",
      "(3476, 6)\n"
     ]
    }
   ],
   "source": [
    "\n",
    "xtrain = data_df.loc[data_df['Int$ Per Hectare Per Year'].notnull(), [\"protection_status_codes\", \"beneficiary_unit_codes\", \"valuation_methods_codes\", \"Site Area In Hectares\", \"Site Length\", \"subregion_codes\"]]\n",
    "ytrain = data_df.loc[data_df['Int$ Per Hectare Per Year'].notnull(), [\"Int$ Per Hectare Per Year\"]]\n",
    "\n",
    "xtest = data_df.loc[data_df['Int$ Per Hectare Per Year'].isnull(), [\"protection_status_codes\", \"beneficiary_unit_codes\", \"valuation_methods_codes\", \"Site Area In Hectares\", \"Site Length\", \"subregion_codes\"]]\n",
    "ytest = data_df.loc[data_df['Int$ Per Hectare Per Year'].isnull(), [\"Int$ Per Hectare Per Year\"]]\n",
    "\n",
    "xtest_id = data_df.loc[data_df['Int$ Per Hectare Per Year'].isnull(), [\"ValueId\"]]\n",
    "\n",
    "print (xtrain.shape)\n",
    "print (ytrain.shape)\n",
    "\n",
    "print (xtest.shape)\n"
   ]
  },
  {
   "cell_type": "markdown",
   "metadata": {},
   "source": [
    "| Parameter_Neo4j | Vaule_Neo4j | Parameter_Sklearn | Value_Sklearn |\n",
    "| --- | --- | --- | --- |\n",
    "| maxDepth | No max depth | max_depth | None |\n",
    "| minLeafSize | 1 | min_samples_leaf | 1 |\n",
    "| numberOfDecisionTrees | 100 | n_estimators | 100 |\n",
    "| minSplitSize | 2 | min_samples_split | 2 |\n",
    "| maxFeaturesRatio | 1 / sqrt(n_features) | max_features | 1 |\n",
    "| numberOfSamplesRatio | 1 | max_samples | None |\n"
   ]
  },
  {
   "cell_type": "markdown",
   "metadata": {},
   "source": [
    "I want to use the Normalized RMSE = RMSE / (max value – min value) to get a better idea of the model performance"
   ]
  },
  {
   "cell_type": "code",
   "execution_count": 94,
   "metadata": {},
   "outputs": [],
   "source": [
    "max_value = ytrain.values.max()\n",
    "min_value = ytrain.values.min()"
   ]
  },
  {
   "cell_type": "code",
   "execution_count": 95,
   "metadata": {},
   "outputs": [
    {
     "data": {
      "text/plain": [
       "880238.7265"
      ]
     },
     "execution_count": 95,
     "metadata": {},
     "output_type": "execute_result"
    }
   ],
   "source": [
    "max_value"
   ]
  },
  {
   "cell_type": "code",
   "execution_count": 96,
   "metadata": {},
   "outputs": [
    {
     "data": {
      "text/plain": [
       "1.0042"
      ]
     },
     "execution_count": 96,
     "metadata": {},
     "output_type": "execute_result"
    }
   ],
   "source": [
    "min_value"
   ]
  },
  {
   "cell_type": "code",
   "execution_count": 97,
   "metadata": {},
   "outputs": [
    {
     "name": "stdout",
     "output_type": "stream",
     "text": [
      "[-31099.06624002 -30664.72478285 -50687.65585883 -18723.81680752\n",
      " -48509.02297955 -34094.64160126 -27312.53073963 -20815.82293465\n",
      " -26393.87626177 -22285.07472539]\n",
      "31058.62329314616\n",
      "0.03528435842534916\n"
     ]
    }
   ],
   "source": [
    "regr = RandomForestRegressor(max_depth=10)\n",
    "\n",
    "cv = KFold(n_splits=10, random_state=1, shuffle=True)\n",
    "\n",
    "scores = cross_val_score(regr, xtrain, ytrain.values.ravel(), scoring = 'neg_root_mean_squared_error',\n",
    "                         cv = cv, n_jobs = -1)\n",
    "\n",
    "print (scores)\n",
    "\n",
    "rmse = np.mean(np.abs(scores))\n",
    "\n",
    "normalized_rmse = rmse / (max_value - min_value)\n",
    "\n",
    "print (rmse)\n",
    "\n",
    "print (normalized_rmse)"
   ]
  },
  {
   "cell_type": "code",
   "execution_count": 98,
   "metadata": {},
   "outputs": [
    {
     "name": "stderr",
     "output_type": "stream",
     "text": [
      "/home/dgg32/anaconda3/envs/bigquery_pricing/lib/python3.11/site-packages/sklearn/base.py:1152: DataConversionWarning: A column-vector y was passed when a 1d array was expected. Please change the shape of y to (n_samples,), for example using ravel().\n",
      "  return fit_method(estimator, *args, **kwargs)\n"
     ]
    },
    {
     "data": {
      "text/html": [
       "<style>#sk-container-id-3 {color: black;}#sk-container-id-3 pre{padding: 0;}#sk-container-id-3 div.sk-toggleable {background-color: white;}#sk-container-id-3 label.sk-toggleable__label {cursor: pointer;display: block;width: 100%;margin-bottom: 0;padding: 0.3em;box-sizing: border-box;text-align: center;}#sk-container-id-3 label.sk-toggleable__label-arrow:before {content: \"▸\";float: left;margin-right: 0.25em;color: #696969;}#sk-container-id-3 label.sk-toggleable__label-arrow:hover:before {color: black;}#sk-container-id-3 div.sk-estimator:hover label.sk-toggleable__label-arrow:before {color: black;}#sk-container-id-3 div.sk-toggleable__content {max-height: 0;max-width: 0;overflow: hidden;text-align: left;background-color: #f0f8ff;}#sk-container-id-3 div.sk-toggleable__content pre {margin: 0.2em;color: black;border-radius: 0.25em;background-color: #f0f8ff;}#sk-container-id-3 input.sk-toggleable__control:checked~div.sk-toggleable__content {max-height: 200px;max-width: 100%;overflow: auto;}#sk-container-id-3 input.sk-toggleable__control:checked~label.sk-toggleable__label-arrow:before {content: \"▾\";}#sk-container-id-3 div.sk-estimator input.sk-toggleable__control:checked~label.sk-toggleable__label {background-color: #d4ebff;}#sk-container-id-3 div.sk-label input.sk-toggleable__control:checked~label.sk-toggleable__label {background-color: #d4ebff;}#sk-container-id-3 input.sk-hidden--visually {border: 0;clip: rect(1px 1px 1px 1px);clip: rect(1px, 1px, 1px, 1px);height: 1px;margin: -1px;overflow: hidden;padding: 0;position: absolute;width: 1px;}#sk-container-id-3 div.sk-estimator {font-family: monospace;background-color: #f0f8ff;border: 1px dotted black;border-radius: 0.25em;box-sizing: border-box;margin-bottom: 0.5em;}#sk-container-id-3 div.sk-estimator:hover {background-color: #d4ebff;}#sk-container-id-3 div.sk-parallel-item::after {content: \"\";width: 100%;border-bottom: 1px solid gray;flex-grow: 1;}#sk-container-id-3 div.sk-label:hover label.sk-toggleable__label {background-color: #d4ebff;}#sk-container-id-3 div.sk-serial::before {content: \"\";position: absolute;border-left: 1px solid gray;box-sizing: border-box;top: 0;bottom: 0;left: 50%;z-index: 0;}#sk-container-id-3 div.sk-serial {display: flex;flex-direction: column;align-items: center;background-color: white;padding-right: 0.2em;padding-left: 0.2em;position: relative;}#sk-container-id-3 div.sk-item {position: relative;z-index: 1;}#sk-container-id-3 div.sk-parallel {display: flex;align-items: stretch;justify-content: center;background-color: white;position: relative;}#sk-container-id-3 div.sk-item::before, #sk-container-id-3 div.sk-parallel-item::before {content: \"\";position: absolute;border-left: 1px solid gray;box-sizing: border-box;top: 0;bottom: 0;left: 50%;z-index: -1;}#sk-container-id-3 div.sk-parallel-item {display: flex;flex-direction: column;z-index: 1;position: relative;background-color: white;}#sk-container-id-3 div.sk-parallel-item:first-child::after {align-self: flex-end;width: 50%;}#sk-container-id-3 div.sk-parallel-item:last-child::after {align-self: flex-start;width: 50%;}#sk-container-id-3 div.sk-parallel-item:only-child::after {width: 0;}#sk-container-id-3 div.sk-dashed-wrapped {border: 1px dashed gray;margin: 0 0.4em 0.5em 0.4em;box-sizing: border-box;padding-bottom: 0.4em;background-color: white;}#sk-container-id-3 div.sk-label label {font-family: monospace;font-weight: bold;display: inline-block;line-height: 1.2em;}#sk-container-id-3 div.sk-label-container {text-align: center;}#sk-container-id-3 div.sk-container {/* jupyter's `normalize.less` sets `[hidden] { display: none; }` but bootstrap.min.css set `[hidden] { display: none !important; }` so we also need the `!important` here to be able to override the default hidden behavior on the sphinx rendered scikit-learn.org. See: https://github.com/scikit-learn/scikit-learn/issues/21755 */display: inline-block !important;position: relative;}#sk-container-id-3 div.sk-text-repr-fallback {display: none;}</style><div id=\"sk-container-id-3\" class=\"sk-top-container\"><div class=\"sk-text-repr-fallback\"><pre>RandomForestRegressor(max_depth=10)</pre><b>In a Jupyter environment, please rerun this cell to show the HTML representation or trust the notebook. <br />On GitHub, the HTML representation is unable to render, please try loading this page with nbviewer.org.</b></div><div class=\"sk-container\" hidden><div class=\"sk-item\"><div class=\"sk-estimator sk-toggleable\"><input class=\"sk-toggleable__control sk-hidden--visually\" id=\"sk-estimator-id-3\" type=\"checkbox\" checked><label for=\"sk-estimator-id-3\" class=\"sk-toggleable__label sk-toggleable__label-arrow\">RandomForestRegressor</label><div class=\"sk-toggleable__content\"><pre>RandomForestRegressor(max_depth=10)</pre></div></div></div></div></div>"
      ],
      "text/plain": [
       "RandomForestRegressor(max_depth=10)"
      ]
     },
     "execution_count": 98,
     "metadata": {},
     "output_type": "execute_result"
    }
   ],
   "source": [
    "\n",
    "regr.fit(xtrain, ytrain)"
   ]
  },
  {
   "cell_type": "code",
   "execution_count": 99,
   "metadata": {},
   "outputs": [],
   "source": [
    "prediction = regr.predict(xtest)"
   ]
  },
  {
   "cell_type": "code",
   "execution_count": 100,
   "metadata": {},
   "outputs": [
    {
     "data": {
      "text/plain": [
       "array([12410006, 12410005, 12410004, ...,    80004,    60005,    40002])"
      ]
     },
     "execution_count": 100,
     "metadata": {},
     "output_type": "execute_result"
    }
   ],
   "source": [
    "xtest_id.values.ravel()"
   ]
  },
  {
   "cell_type": "code",
   "execution_count": 101,
   "metadata": {},
   "outputs": [
    {
     "data": {
      "text/plain": [
       "array([ 5742.06938744,  5742.06938744,  5742.06938744, ...,\n",
       "       14474.61102975,  3996.52508707,  2216.65307889])"
      ]
     },
     "execution_count": 101,
     "metadata": {},
     "output_type": "execute_result"
    }
   ],
   "source": [
    "prediction"
   ]
  },
  {
   "cell_type": "code",
   "execution_count": 102,
   "metadata": {},
   "outputs": [
    {
     "data": {
      "text/html": [
       "<div>\n",
       "<style scoped>\n",
       "    .dataframe tbody tr th:only-of-type {\n",
       "        vertical-align: middle;\n",
       "    }\n",
       "\n",
       "    .dataframe tbody tr th {\n",
       "        vertical-align: top;\n",
       "    }\n",
       "\n",
       "    .dataframe thead th {\n",
       "        text-align: right;\n",
       "    }\n",
       "</style>\n",
       "<table border=\"1\" class=\"dataframe\">\n",
       "  <thead>\n",
       "    <tr style=\"text-align: right;\">\n",
       "      <th></th>\n",
       "      <th>name</th>\n",
       "      <th>RF</th>\n",
       "    </tr>\n",
       "  </thead>\n",
       "  <tbody>\n",
       "    <tr>\n",
       "      <th>0</th>\n",
       "      <td>12410006</td>\n",
       "      <td>5742.069387</td>\n",
       "    </tr>\n",
       "    <tr>\n",
       "      <th>1</th>\n",
       "      <td>12410005</td>\n",
       "      <td>5742.069387</td>\n",
       "    </tr>\n",
       "    <tr>\n",
       "      <th>2</th>\n",
       "      <td>12410004</td>\n",
       "      <td>5742.069387</td>\n",
       "    </tr>\n",
       "    <tr>\n",
       "      <th>3</th>\n",
       "      <td>12410003</td>\n",
       "      <td>5742.069387</td>\n",
       "    </tr>\n",
       "    <tr>\n",
       "      <th>4</th>\n",
       "      <td>12410002</td>\n",
       "      <td>5742.069387</td>\n",
       "    </tr>\n",
       "  </tbody>\n",
       "</table>\n",
       "</div>"
      ],
      "text/plain": [
       "       name           RF\n",
       "0  12410006  5742.069387\n",
       "1  12410005  5742.069387\n",
       "2  12410004  5742.069387\n",
       "3  12410003  5742.069387\n",
       "4  12410002  5742.069387"
      ]
     },
     "execution_count": 102,
     "metadata": {},
     "output_type": "execute_result"
    }
   ],
   "source": [
    "df = pd.DataFrame({'name': xtest_id.values.ravel(), 'RF': prediction})\n",
    "df.head()"
   ]
  },
  {
   "cell_type": "code",
   "execution_count": 103,
   "metadata": {},
   "outputs": [],
   "source": [
    "df.to_csv(\"predicted_SklearnRF.tsv\", sep=\"\\t\", index=False)"
   ]
  }
 ],
 "metadata": {
  "kernelspec": {
   "display_name": "bigquery_pricing",
   "language": "python",
   "name": "python3"
  },
  "language_info": {
   "codemirror_mode": {
    "name": "ipython",
    "version": 3
   },
   "file_extension": ".py",
   "mimetype": "text/x-python",
   "name": "python",
   "nbconvert_exporter": "python",
   "pygments_lexer": "ipython3",
   "version": "3.11.5"
  }
 },
 "nbformat": 4,
 "nbformat_minor": 2
}
