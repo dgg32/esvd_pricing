{
 "cells": [
  {
   "cell_type": "code",
   "execution_count": 29,
   "metadata": {},
   "outputs": [],
   "source": [
    "import yaml\n",
    "import pandas as pd\n",
    "from graphdatascience import GraphDataScience"
   ]
  },
  {
   "cell_type": "code",
   "execution_count": 30,
   "metadata": {},
   "outputs": [],
   "source": [
    "with open('config.yaml', 'r') as file:\n",
    "    PARAM = yaml.safe_load(file)\n",
    "\n",
    "\n",
    "url = \"bolt://localhost:7687\"\n",
    "gds = GraphDataScience(url, auth=(PARAM[\"neo4j_username\"], PARAM[\"neo4j_password\"]))"
   ]
  },
  {
   "cell_type": "code",
   "execution_count": 31,
   "metadata": {},
   "outputs": [],
   "source": [
    "G, result = gds.graph.project(\n",
    "    \"contextGraph\",                  #  Graph name\n",
    "    {\n",
    "    \"Known\": { \"properties\":['protection_status_one_hot', 'site_area_in_hectares', 'site_length_km', 'valuation_methods_one_hot', 'value_year', 'beneficiary_unit_one_hot', 'int__per_hectare_per_year'] },\n",
    "    \"Unknown\": {\"properties\":['protection_status_one_hot', 'site_area_in_hectares', 'site_length_km', 'valuation_methods_one_hot', 'value_year', 'beneficiary_unit_one_hot']},\n",
    "    \"Country\": {},\n",
    "    \"Seea\": {},\n",
    "    \"Ecosystem\": {},\n",
    "    \"Ecozone\": {},\n",
    "    \"Biome\": {},\n",
    "    \"Cices_class\": {},\n",
    "    \"Cices_division\": {},\n",
    "    \"Cices_group\": {},\n",
    "    \"Cices_section\": {},\n",
    "    \"Teeb_service\": {},\n",
    "    \"Teeb_subservice\": {},\n",
    "    \"Teeb_category\": {},\n",
    "    \"Subregion\": {},\n",
    "    \"Region\": {}\n",
    "  },                 #  Node projection\n",
    "  {\n",
    "    \"IS_LOCATE_IN\": {\"orientation\": 'UNDIRECTED'},\n",
    "    \"IS_AN_SEEA_OF\": {\"orientation\": 'UNDIRECTED'},\n",
    "    \"IS_AN_ECOSYSTEM_OF\": {\"orientation\": 'UNDIRECTED'},\n",
    "    \"ECOSYSTEM_BELONGS_TO\": {\"orientation\": 'UNDIRECTED'},\n",
    "    \"IS_AN_ECOZONE_OF\": {\"orientation\": 'UNDIRECTED'},\n",
    "    \"ECOZONE_BELONGS_TO\": {\"orientation\": 'UNDIRECTED'},\n",
    "    \"IS_A_BIOME_OF\": {\"orientation\": 'UNDIRECTED'},\n",
    "    \"BELONGS_TO_CLASS_OF_CICES\": {\"orientation\": 'UNDIRECTED'},\n",
    "    \"IS_A_GROUP_OF_CICES\": {\"orientation\": 'UNDIRECTED'},\n",
    "    \"IS_A_DIVISION_OF_CICES\": {\"orientation\": 'UNDIRECTED'},\n",
    "    \"IS_A_CLASS_OF_CICES\": {\"orientation\": 'UNDIRECTED'},\n",
    "    \"PROVIDES_SERVICE\": {\"orientation\": 'UNDIRECTED'},\n",
    "    \"PROVIDES_SUBSERVICE\": {\"orientation\": 'UNDIRECTED'},\n",
    "    \"COUNTRY_IS_LOCATE_IN\": {\"orientation\": 'UNDIRECTED'},\n",
    "    \"SUBREGION_IS_LOCATE_IN\": {\"orientation\": 'UNDIRECTED'},\n",
    "    \"IS_A_SUBSERVICE_OF\": {\"orientation\": 'UNDIRECTED'},\n",
    "    \"IS_A_SERVICE_OF\":  {\"orientation\": 'UNDIRECTED'}     \n",
    "    },              #  Relationship projection\n",
    "    readConcurrency=4           #  Configuration parameters\n",
    ")"
   ]
  },
  {
   "cell_type": "code",
   "execution_count": 32,
   "metadata": {},
   "outputs": [],
   "source": [
    "pipe_with_context = gds.nr_pipe(\"pipe-with-context\")"
   ]
  },
  {
   "cell_type": "code",
   "execution_count": 33,
   "metadata": {},
   "outputs": [
    {
     "data": {
      "text/plain": [
       "name                                                 pipe-with-context\n",
       "nodePropertySteps    [{'name': 'gds.node2vec.mutate', 'config': {'m...\n",
       "featureProperties                                                   []\n",
       "splitConfig                {'testFraction': 0.3, 'validationFolds': 3}\n",
       "autoTuningConfig                                     {'maxTrials': 10}\n",
       "parameterSpace            {'LinearRegression': [], 'RandomForest': []}\n",
       "Name: 0, dtype: object"
      ]
     },
     "execution_count": 33,
     "metadata": {},
     "output_type": "execute_result"
    }
   ],
   "source": [
    "pipe_with_context.addNodeProperty(\n",
    "    \"node2vec\",\n",
    "    mutateProperty=\"embedding\",\n",
    "    embeddingDimension=32,\n",
    "    contextNodeLabels=['Country', 'Seea', 'Ecosystem', 'Ecozone', 'Ecosystem', 'Biome','Cices_class', 'Teeb_service', 'Teeb_subservice', 'Subregion', 'Region'],\n",
    "    iterations=5\n",
    ")"
   ]
  },
  {
   "cell_type": "code",
   "execution_count": 34,
   "metadata": {},
   "outputs": [
    {
     "data": {
      "text/plain": [
       "name                                                 pipe-with-context\n",
       "nodePropertySteps    [{'name': 'gds.node2vec.mutate', 'config': {'m...\n",
       "featureProperties                                          [embedding]\n",
       "splitConfig                {'testFraction': 0.3, 'validationFolds': 3}\n",
       "autoTuningConfig                                     {'maxTrials': 10}\n",
       "parameterSpace            {'LinearRegression': [], 'RandomForest': []}\n",
       "Name: 0, dtype: object"
      ]
     },
     "execution_count": 34,
     "metadata": {},
     "output_type": "execute_result"
    }
   ],
   "source": [
    "pipe_with_context.selectFeatures([\"embedding\"])"
   ]
  },
  {
   "cell_type": "code",
   "execution_count": 35,
   "metadata": {},
   "outputs": [
    {
     "data": {
      "text/plain": [
       "name                                                 pipe-with-context\n",
       "nodePropertySteps    [{'name': 'gds.node2vec.mutate', 'config': {'m...\n",
       "featureProperties                                          [embedding]\n",
       "splitConfig                {'testFraction': 0.3, 'validationFolds': 3}\n",
       "autoTuningConfig                                     {'maxTrials': 10}\n",
       "parameterSpace       {'LinearRegression': [], 'RandomForest': [{'ma...\n",
       "Name: 0, dtype: object"
      ]
     },
     "execution_count": 35,
     "metadata": {},
     "output_type": "execute_result"
    }
   ],
   "source": [
    "pipe_with_context.addRandomForest(numberOfDecisionTrees=10)"
   ]
  },
  {
   "cell_type": "code",
   "execution_count": 36,
   "metadata": {},
   "outputs": [
    {
     "data": {
      "text/plain": [
       "name                                                 pipe-with-context\n",
       "nodePropertySteps    [{'name': 'gds.node2vec.mutate', 'config': {'m...\n",
       "featureProperties                                          [embedding]\n",
       "splitConfig                {'testFraction': 0.3, 'validationFolds': 3}\n",
       "autoTuningConfig                                      {'maxTrials': 5}\n",
       "parameterSpace       {'LinearRegression': [], 'RandomForest': [{'ma...\n",
       "Name: 0, dtype: object"
      ]
     },
     "execution_count": 36,
     "metadata": {},
     "output_type": "execute_result"
    }
   ],
   "source": [
    "pipe_with_context.configureAutoTuning(maxTrials=5)"
   ]
  },
  {
   "cell_type": "code",
   "execution_count": 37,
   "metadata": {},
   "outputs": [
    {
     "data": {
      "application/vnd.jupyter.widget-view+json": {
       "model_id": "c57521f10e97448aa5a745ba464dd363",
       "version_major": 2,
       "version_minor": 0
      },
      "text/plain": [
       "Node Regression Train Pipeline:   0%|          | 0/100 [00:00<?, ?%/s]"
      ]
     },
     "metadata": {},
     "output_type": "display_data"
    }
   ],
   "source": [
    "model, stats = pipe_with_context.train(\n",
    "    G,\n",
    "    targetNodeLabels=[\"Known\"],\n",
    "    modelName=\"nr-pipeline-model-contextual\",\n",
    "    targetProperty=\"int__per_hectare_per_year\",\n",
    "    metrics=[\"ROOT_MEAN_SQUARED_ERROR\"],\n",
    "    concurrency=4\n",
    ")"
   ]
  },
  {
   "cell_type": "markdown",
   "metadata": {},
   "source": [
    "Without the context Node labels: {'test': 40443.38886354173, 'validation': {'min': 43493.441360938836, 'max': 51896.71613829475, 'avg': 48193.77188901938}, 'outerTrain': 39749.880691939696, 'train': {'min': 38593.61942880581, 'max': 44602.9439280394, 'avg': 41371.3436473497}}\n"
   ]
  },
  {
   "cell_type": "code",
   "execution_count": 38,
   "metadata": {},
   "outputs": [
    {
     "name": "stdout",
     "output_type": "stream",
     "text": [
      "{'test': 41704.367138768255, 'validation': {'min': 40784.549552471566, 'max': 54095.044135996526, 'avg': 47100.48149503227}, 'outerTrain': 38406.11450732535, 'train': {'min': 36039.26375185234, 'max': 40014.19000071053, 'avg': 37921.86433286498}}\n"
     ]
    }
   ],
   "source": [
    "print (stats[\"modelInfo\"][\"metrics\"][\"ROOT_MEAN_SQUARED_ERROR\"])"
   ]
  },
  {
   "cell_type": "code",
   "execution_count": 39,
   "metadata": {},
   "outputs": [
    {
     "data": {
      "application/vnd.jupyter.widget-view+json": {
       "model_id": "dd95bce71c324fd69c2fea8a7f92f270",
       "version_major": 2,
       "version_minor": 0
      },
      "text/plain": [
       "Node Classification Predict Pipeline:   0%|          | 0/100 [00:00<?, ?%/s]"
      ]
     },
     "metadata": {},
     "output_type": "display_data"
    }
   ],
   "source": [
    "predicted = model.predict_stream(\n",
    "    G, modelName=\"nr-pipeline-model-contextual\", targetNodeLabels=[\"Unknown\"]\n",
    ")\n",
    "     \n"
   ]
  },
  {
   "cell_type": "code",
   "execution_count": 40,
   "metadata": {},
   "outputs": [],
   "source": [
    "predicted[\"name\"] = [x[\"name\"] for x in gds.util.asNodes(predicted[\"nodeId\"].to_list())]"
   ]
  },
  {
   "cell_type": "code",
   "execution_count": 41,
   "metadata": {},
   "outputs": [
    {
     "data": {
      "text/html": [
       "<div>\n",
       "<style scoped>\n",
       "    .dataframe tbody tr th:only-of-type {\n",
       "        vertical-align: middle;\n",
       "    }\n",
       "\n",
       "    .dataframe tbody tr th {\n",
       "        vertical-align: top;\n",
       "    }\n",
       "\n",
       "    .dataframe thead th {\n",
       "        text-align: right;\n",
       "    }\n",
       "</style>\n",
       "<table border=\"1\" class=\"dataframe\">\n",
       "  <thead>\n",
       "    <tr style=\"text-align: right;\">\n",
       "      <th></th>\n",
       "      <th>nodeId</th>\n",
       "      <th>Node2vec_rf</th>\n",
       "      <th>name</th>\n",
       "    </tr>\n",
       "  </thead>\n",
       "  <tbody>\n",
       "    <tr>\n",
       "      <th>0</th>\n",
       "      <td>23</td>\n",
       "      <td>68165.58776</td>\n",
       "      <td>12270007</td>\n",
       "    </tr>\n",
       "    <tr>\n",
       "      <th>1</th>\n",
       "      <td>31</td>\n",
       "      <td>40722.47882</td>\n",
       "      <td>12250001</td>\n",
       "    </tr>\n",
       "    <tr>\n",
       "      <th>2</th>\n",
       "      <td>35</td>\n",
       "      <td>1296.69453</td>\n",
       "      <td>12240002</td>\n",
       "    </tr>\n",
       "    <tr>\n",
       "      <th>3</th>\n",
       "      <td>41</td>\n",
       "      <td>94664.04379</td>\n",
       "      <td>12230006</td>\n",
       "    </tr>\n",
       "    <tr>\n",
       "      <th>4</th>\n",
       "      <td>46</td>\n",
       "      <td>80655.87647</td>\n",
       "      <td>12210004</td>\n",
       "    </tr>\n",
       "    <tr>\n",
       "      <th>...</th>\n",
       "      <td>...</td>\n",
       "      <td>...</td>\n",
       "      <td>...</td>\n",
       "    </tr>\n",
       "    <tr>\n",
       "      <th>3471</th>\n",
       "      <td>10291</td>\n",
       "      <td>109097.67564</td>\n",
       "      <td>12410007</td>\n",
       "    </tr>\n",
       "    <tr>\n",
       "      <th>3472</th>\n",
       "      <td>10293</td>\n",
       "      <td>4261.83200</td>\n",
       "      <td>12400002</td>\n",
       "    </tr>\n",
       "    <tr>\n",
       "      <th>3473</th>\n",
       "      <td>10308</td>\n",
       "      <td>14301.85643</td>\n",
       "      <td>12360001</td>\n",
       "    </tr>\n",
       "    <tr>\n",
       "      <th>3474</th>\n",
       "      <td>10315</td>\n",
       "      <td>24295.58599</td>\n",
       "      <td>12350007</td>\n",
       "    </tr>\n",
       "    <tr>\n",
       "      <th>3475</th>\n",
       "      <td>10316</td>\n",
       "      <td>2624.87946</td>\n",
       "      <td>12350003</td>\n",
       "    </tr>\n",
       "  </tbody>\n",
       "</table>\n",
       "<p>3476 rows × 3 columns</p>\n",
       "</div>"
      ],
      "text/plain": [
       "      nodeId   Node2vec_rf      name\n",
       "0         23   68165.58776  12270007\n",
       "1         31   40722.47882  12250001\n",
       "2         35    1296.69453  12240002\n",
       "3         41   94664.04379  12230006\n",
       "4         46   80655.87647  12210004\n",
       "...      ...           ...       ...\n",
       "3471   10291  109097.67564  12410007\n",
       "3472   10293    4261.83200  12400002\n",
       "3473   10308   14301.85643  12360001\n",
       "3474   10315   24295.58599  12350007\n",
       "3475   10316    2624.87946  12350003\n",
       "\n",
       "[3476 rows x 3 columns]"
      ]
     },
     "execution_count": 41,
     "metadata": {},
     "output_type": "execute_result"
    }
   ],
   "source": [
    "predicted.rename(columns={\"predictedValue\": \"Node2vec_rf\"})"
   ]
  },
  {
   "cell_type": "code",
   "execution_count": 42,
   "metadata": {},
   "outputs": [],
   "source": [
    "predicted.to_csv(\"predicted_Node2vec.tsv\", sep=\"\\t\", index=False)"
   ]
  },
  {
   "cell_type": "code",
   "execution_count": null,
   "metadata": {},
   "outputs": [],
   "source": []
  }
 ],
 "metadata": {
  "kernelspec": {
   "display_name": "bigquery_pricing",
   "language": "python",
   "name": "python3"
  },
  "language_info": {
   "codemirror_mode": {
    "name": "ipython",
    "version": 3
   },
   "file_extension": ".py",
   "mimetype": "text/x-python",
   "name": "python",
   "nbconvert_exporter": "python",
   "pygments_lexer": "ipython3",
   "version": "3.11.5"
  }
 },
 "nbformat": 4,
 "nbformat_minor": 2
}
