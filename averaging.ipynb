{
 "cells": [
  {
   "cell_type": "code",
   "execution_count": 37,
   "metadata": {},
   "outputs": [],
   "source": [
    "import pandas as pd\n"
   ]
  },
  {
   "cell_type": "code",
   "execution_count": 38,
   "metadata": {},
   "outputs": [],
   "source": [
    "sklearn_rf = pd.read_csv('predicted_SklearnRF.tsv', sep='\\t').rename(columns={\"RF\": \"Sklearn\"})\n",
    "fastrp_rf = pd.read_csv('predicted_FastRP.tsv', sep='\\t').rename(columns={\"predictedValue\": \"fastRP\"}).drop(columns=[\"nodeId\"], axis=1)"
   ]
  },
  {
   "cell_type": "code",
   "execution_count": 39,
   "metadata": {},
   "outputs": [
    {
     "data": {
      "text/html": [
       "<div>\n",
       "<style scoped>\n",
       "    .dataframe tbody tr th:only-of-type {\n",
       "        vertical-align: middle;\n",
       "    }\n",
       "\n",
       "    .dataframe tbody tr th {\n",
       "        vertical-align: top;\n",
       "    }\n",
       "\n",
       "    .dataframe thead th {\n",
       "        text-align: right;\n",
       "    }\n",
       "</style>\n",
       "<table border=\"1\" class=\"dataframe\">\n",
       "  <thead>\n",
       "    <tr style=\"text-align: right;\">\n",
       "      <th></th>\n",
       "      <th>name</th>\n",
       "      <th>Sklearn</th>\n",
       "    </tr>\n",
       "  </thead>\n",
       "  <tbody>\n",
       "    <tr>\n",
       "      <th>0</th>\n",
       "      <td>12410006</td>\n",
       "      <td>5742.069387</td>\n",
       "    </tr>\n",
       "    <tr>\n",
       "      <th>1</th>\n",
       "      <td>12410005</td>\n",
       "      <td>5742.069387</td>\n",
       "    </tr>\n",
       "    <tr>\n",
       "      <th>2</th>\n",
       "      <td>12410004</td>\n",
       "      <td>5742.069387</td>\n",
       "    </tr>\n",
       "    <tr>\n",
       "      <th>3</th>\n",
       "      <td>12410003</td>\n",
       "      <td>5742.069387</td>\n",
       "    </tr>\n",
       "    <tr>\n",
       "      <th>4</th>\n",
       "      <td>12410002</td>\n",
       "      <td>5742.069387</td>\n",
       "    </tr>\n",
       "  </tbody>\n",
       "</table>\n",
       "</div>"
      ],
      "text/plain": [
       "       name      Sklearn\n",
       "0  12410006  5742.069387\n",
       "1  12410005  5742.069387\n",
       "2  12410004  5742.069387\n",
       "3  12410003  5742.069387\n",
       "4  12410002  5742.069387"
      ]
     },
     "execution_count": 39,
     "metadata": {},
     "output_type": "execute_result"
    }
   ],
   "source": [
    "sklearn_rf.head()"
   ]
  },
  {
   "cell_type": "code",
   "execution_count": 40,
   "metadata": {},
   "outputs": [
    {
     "data": {
      "text/html": [
       "<div>\n",
       "<style scoped>\n",
       "    .dataframe tbody tr th:only-of-type {\n",
       "        vertical-align: middle;\n",
       "    }\n",
       "\n",
       "    .dataframe tbody tr th {\n",
       "        vertical-align: top;\n",
       "    }\n",
       "\n",
       "    .dataframe thead th {\n",
       "        text-align: right;\n",
       "    }\n",
       "</style>\n",
       "<table border=\"1\" class=\"dataframe\">\n",
       "  <thead>\n",
       "    <tr style=\"text-align: right;\">\n",
       "      <th></th>\n",
       "      <th>fastRP</th>\n",
       "      <th>name</th>\n",
       "    </tr>\n",
       "  </thead>\n",
       "  <tbody>\n",
       "    <tr>\n",
       "      <th>0</th>\n",
       "      <td>76859.79227</td>\n",
       "      <td>12270007</td>\n",
       "    </tr>\n",
       "    <tr>\n",
       "      <th>1</th>\n",
       "      <td>9307.74632</td>\n",
       "      <td>12250001</td>\n",
       "    </tr>\n",
       "    <tr>\n",
       "      <th>2</th>\n",
       "      <td>75520.16106</td>\n",
       "      <td>12240002</td>\n",
       "    </tr>\n",
       "    <tr>\n",
       "      <th>3</th>\n",
       "      <td>76859.79227</td>\n",
       "      <td>12230006</td>\n",
       "    </tr>\n",
       "    <tr>\n",
       "      <th>4</th>\n",
       "      <td>46968.94177</td>\n",
       "      <td>12210004</td>\n",
       "    </tr>\n",
       "  </tbody>\n",
       "</table>\n",
       "</div>"
      ],
      "text/plain": [
       "        fastRP      name\n",
       "0  76859.79227  12270007\n",
       "1   9307.74632  12250001\n",
       "2  75520.16106  12240002\n",
       "3  76859.79227  12230006\n",
       "4  46968.94177  12210004"
      ]
     },
     "execution_count": 40,
     "metadata": {},
     "output_type": "execute_result"
    }
   ],
   "source": [
    "fastrp_rf.head()"
   ]
  },
  {
   "cell_type": "code",
   "execution_count": 41,
   "metadata": {},
   "outputs": [
    {
     "name": "stdout",
     "output_type": "stream",
     "text": [
      "3476 3476\n"
     ]
    }
   ],
   "source": [
    "print (len(sklearn_rf), len(fastrp_rf))"
   ]
  },
  {
   "cell_type": "code",
   "execution_count": 42,
   "metadata": {},
   "outputs": [],
   "source": [
    "combine_df = pd.merge(sklearn_rf, fastrp_rf, on='name', how='inner')"
   ]
  },
  {
   "cell_type": "code",
   "execution_count": 43,
   "metadata": {},
   "outputs": [
    {
     "data": {
      "text/html": [
       "<div>\n",
       "<style scoped>\n",
       "    .dataframe tbody tr th:only-of-type {\n",
       "        vertical-align: middle;\n",
       "    }\n",
       "\n",
       "    .dataframe tbody tr th {\n",
       "        vertical-align: top;\n",
       "    }\n",
       "\n",
       "    .dataframe thead th {\n",
       "        text-align: right;\n",
       "    }\n",
       "</style>\n",
       "<table border=\"1\" class=\"dataframe\">\n",
       "  <thead>\n",
       "    <tr style=\"text-align: right;\">\n",
       "      <th></th>\n",
       "      <th>name</th>\n",
       "      <th>Sklearn</th>\n",
       "      <th>fastRP</th>\n",
       "    </tr>\n",
       "  </thead>\n",
       "  <tbody>\n",
       "    <tr>\n",
       "      <th>0</th>\n",
       "      <td>12410006</td>\n",
       "      <td>5742.069387</td>\n",
       "      <td>17839.40498</td>\n",
       "    </tr>\n",
       "    <tr>\n",
       "      <th>1</th>\n",
       "      <td>12410005</td>\n",
       "      <td>5742.069387</td>\n",
       "      <td>17839.40498</td>\n",
       "    </tr>\n",
       "    <tr>\n",
       "      <th>2</th>\n",
       "      <td>12410004</td>\n",
       "      <td>5742.069387</td>\n",
       "      <td>17839.40498</td>\n",
       "    </tr>\n",
       "    <tr>\n",
       "      <th>3</th>\n",
       "      <td>12410003</td>\n",
       "      <td>5742.069387</td>\n",
       "      <td>17839.40498</td>\n",
       "    </tr>\n",
       "    <tr>\n",
       "      <th>4</th>\n",
       "      <td>12410002</td>\n",
       "      <td>5742.069387</td>\n",
       "      <td>17839.40498</td>\n",
       "    </tr>\n",
       "  </tbody>\n",
       "</table>\n",
       "</div>"
      ],
      "text/plain": [
       "       name      Sklearn       fastRP\n",
       "0  12410006  5742.069387  17839.40498\n",
       "1  12410005  5742.069387  17839.40498\n",
       "2  12410004  5742.069387  17839.40498\n",
       "3  12410003  5742.069387  17839.40498\n",
       "4  12410002  5742.069387  17839.40498"
      ]
     },
     "execution_count": 43,
     "metadata": {},
     "output_type": "execute_result"
    }
   ],
   "source": [
    "combine_df.head()"
   ]
  },
  {
   "cell_type": "code",
   "execution_count": 44,
   "metadata": {},
   "outputs": [
    {
     "data": {
      "text/plain": [
       "name       0\n",
       "Sklearn    0\n",
       "fastRP     0\n",
       "dtype: int64"
      ]
     },
     "execution_count": 44,
     "metadata": {},
     "output_type": "execute_result"
    }
   ],
   "source": [
    "combine_df.isna().sum()"
   ]
  },
  {
   "cell_type": "code",
   "execution_count": 45,
   "metadata": {},
   "outputs": [],
   "source": [
    "combine_df[\"average\"] = combine_df[['Sklearn', 'fastRP']].mean(axis=1)\n"
   ]
  },
  {
   "cell_type": "code",
   "execution_count": 46,
   "metadata": {},
   "outputs": [],
   "source": [
    "combine_df[\"diff\"] = combine_df[\"Sklearn\"] - combine_df[\"fastRP\"]\n"
   ]
  },
  {
   "cell_type": "code",
   "execution_count": 47,
   "metadata": {},
   "outputs": [
    {
     "data": {
      "text/html": [
       "<div>\n",
       "<style scoped>\n",
       "    .dataframe tbody tr th:only-of-type {\n",
       "        vertical-align: middle;\n",
       "    }\n",
       "\n",
       "    .dataframe tbody tr th {\n",
       "        vertical-align: top;\n",
       "    }\n",
       "\n",
       "    .dataframe thead th {\n",
       "        text-align: right;\n",
       "    }\n",
       "</style>\n",
       "<table border=\"1\" class=\"dataframe\">\n",
       "  <thead>\n",
       "    <tr style=\"text-align: right;\">\n",
       "      <th></th>\n",
       "      <th>name</th>\n",
       "      <th>Sklearn</th>\n",
       "      <th>fastRP</th>\n",
       "      <th>average</th>\n",
       "      <th>diff</th>\n",
       "    </tr>\n",
       "  </thead>\n",
       "  <tbody>\n",
       "    <tr>\n",
       "      <th>3192</th>\n",
       "      <td>1630004</td>\n",
       "      <td>976.990573</td>\n",
       "      <td>6783.89331</td>\n",
       "      <td>3880.441941</td>\n",
       "      <td>-5806.902737</td>\n",
       "    </tr>\n",
       "    <tr>\n",
       "      <th>3274</th>\n",
       "      <td>1430003</td>\n",
       "      <td>2736.516538</td>\n",
       "      <td>9722.13109</td>\n",
       "      <td>6229.323814</td>\n",
       "      <td>-6985.614552</td>\n",
       "    </tr>\n",
       "    <tr>\n",
       "      <th>2664</th>\n",
       "      <td>4800001</td>\n",
       "      <td>205067.635076</td>\n",
       "      <td>8014.00318</td>\n",
       "      <td>106540.819128</td>\n",
       "      <td>197053.631896</td>\n",
       "    </tr>\n",
       "    <tr>\n",
       "      <th>1109</th>\n",
       "      <td>9690024</td>\n",
       "      <td>1127.142873</td>\n",
       "      <td>4915.97238</td>\n",
       "      <td>3021.557626</td>\n",
       "      <td>-3788.829507</td>\n",
       "    </tr>\n",
       "    <tr>\n",
       "      <th>2723</th>\n",
       "      <td>4510013</td>\n",
       "      <td>822.752594</td>\n",
       "      <td>26467.32423</td>\n",
       "      <td>13645.038412</td>\n",
       "      <td>-25644.571636</td>\n",
       "    </tr>\n",
       "    <tr>\n",
       "      <th>1049</th>\n",
       "      <td>9700001</td>\n",
       "      <td>220.992719</td>\n",
       "      <td>13448.80623</td>\n",
       "      <td>6834.899475</td>\n",
       "      <td>-13227.813511</td>\n",
       "    </tr>\n",
       "    <tr>\n",
       "      <th>746</th>\n",
       "      <td>10180019</td>\n",
       "      <td>6250.888302</td>\n",
       "      <td>10587.05676</td>\n",
       "      <td>8418.972531</td>\n",
       "      <td>-4336.168458</td>\n",
       "    </tr>\n",
       "    <tr>\n",
       "      <th>2221</th>\n",
       "      <td>7060002</td>\n",
       "      <td>3323.985804</td>\n",
       "      <td>2318.24166</td>\n",
       "      <td>2821.113732</td>\n",
       "      <td>1005.744144</td>\n",
       "    </tr>\n",
       "    <tr>\n",
       "      <th>547</th>\n",
       "      <td>10670001</td>\n",
       "      <td>61247.480862</td>\n",
       "      <td>96693.50218</td>\n",
       "      <td>78970.491521</td>\n",
       "      <td>-35446.021318</td>\n",
       "    </tr>\n",
       "    <tr>\n",
       "      <th>3143</th>\n",
       "      <td>2080013</td>\n",
       "      <td>3043.977622</td>\n",
       "      <td>4279.37891</td>\n",
       "      <td>3661.678266</td>\n",
       "      <td>-1235.401288</td>\n",
       "    </tr>\n",
       "  </tbody>\n",
       "</table>\n",
       "</div>"
      ],
      "text/plain": [
       "          name        Sklearn       fastRP        average           diff\n",
       "3192   1630004     976.990573   6783.89331    3880.441941   -5806.902737\n",
       "3274   1430003    2736.516538   9722.13109    6229.323814   -6985.614552\n",
       "2664   4800001  205067.635076   8014.00318  106540.819128  197053.631896\n",
       "1109   9690024    1127.142873   4915.97238    3021.557626   -3788.829507\n",
       "2723   4510013     822.752594  26467.32423   13645.038412  -25644.571636\n",
       "1049   9700001     220.992719  13448.80623    6834.899475  -13227.813511\n",
       "746   10180019    6250.888302  10587.05676    8418.972531   -4336.168458\n",
       "2221   7060002    3323.985804   2318.24166    2821.113732    1005.744144\n",
       "547   10670001   61247.480862  96693.50218   78970.491521  -35446.021318\n",
       "3143   2080013    3043.977622   4279.37891    3661.678266   -1235.401288"
      ]
     },
     "execution_count": 47,
     "metadata": {},
     "output_type": "execute_result"
    }
   ],
   "source": [
    "combine_df.sample(10)"
   ]
  },
  {
   "cell_type": "code",
   "execution_count": 48,
   "metadata": {},
   "outputs": [
    {
     "data": {
      "text/plain": [
       "count      3476.000000\n",
       "mean     -11172.777403\n",
       "std       49456.682505\n",
       "min     -172368.905103\n",
       "25%      -34027.517668\n",
       "50%       -6414.455692\n",
       "75%         -78.136065\n",
       "max      451192.124355\n",
       "Name: diff, dtype: float64"
      ]
     },
     "execution_count": 48,
     "metadata": {},
     "output_type": "execute_result"
    }
   ],
   "source": [
    "combine_df[\"diff\"].describe()"
   ]
  },
  {
   "cell_type": "code",
   "execution_count": 49,
   "metadata": {},
   "outputs": [
    {
     "data": {
      "text/plain": [
       "2610"
      ]
     },
     "execution_count": 49,
     "metadata": {},
     "output_type": "execute_result"
    }
   ],
   "source": [
    "len(combine_df[combine_df[\"diff\"] < 0])"
   ]
  },
  {
   "cell_type": "code",
   "execution_count": null,
   "metadata": {},
   "outputs": [],
   "source": []
  }
 ],
 "metadata": {
  "kernelspec": {
   "display_name": "bigquery_pricing",
   "language": "python",
   "name": "python3"
  },
  "language_info": {
   "codemirror_mode": {
    "name": "ipython",
    "version": 3
   },
   "file_extension": ".py",
   "mimetype": "text/x-python",
   "name": "python",
   "nbconvert_exporter": "python",
   "pygments_lexer": "ipython3",
   "version": "3.11.5"
  }
 },
 "nbformat": 4,
 "nbformat_minor": 2
}
